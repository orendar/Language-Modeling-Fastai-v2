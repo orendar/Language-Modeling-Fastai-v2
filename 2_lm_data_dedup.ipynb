{
 "cells": [
  {
   "cell_type": "code",
   "execution_count": 1,
   "metadata": {},
   "outputs": [],
   "source": [
    "# !pip uninstall --yes fastcore && pip install --upgrade git+git://github.com/fastai/fastcore.git "
   ]
  },
  {
   "cell_type": "code",
   "execution_count": 2,
   "metadata": {},
   "outputs": [],
   "source": [
    "# !pip uninstall --yes fastai2 && pip install --upgrade git+git://github.com/fastai/fastai2.git"
   ]
  },
  {
   "cell_type": "code",
   "execution_count": 3,
   "metadata": {},
   "outputs": [],
   "source": [
    "%load_ext autoreload\n",
    "%autoreload 2\n",
    "from fastai2.basics import *\n",
    "from fastai2.text.all import *\n",
    "torch.cuda.set_device(0)"
   ]
  },
  {
   "cell_type": "code",
   "execution_count": 4,
   "metadata": {},
   "outputs": [],
   "source": [
    "bs = 192\n",
    "wd = 1e-1\n",
    "moms = (0.8,0.7,0.8) # (0.95, 0.85, 0.95)#\n",
    "seq_len = 72"
   ]
  },
  {
   "cell_type": "code",
   "execution_count": 5,
   "metadata": {},
   "outputs": [],
   "source": [
    "lang = 'he'\n",
    "data_path = Config.config_path/'data'\n",
    "name = f'{lang}wiki'\n",
    "tok = 'SP_data_fwd'\n",
    "text_path = data_path/name\n",
    "path = Path(f'{data_path}/{name}_{tok}')\n",
    "data_format = 'token' #morph or token\n",
    "path.mkdir(exist_ok=True, parents=True)\n",
    "lm_fns = [f'{lang}_wt_{tok}', f'{lang}_wt_vocab_{tok}']"
   ]
  },
  {
   "cell_type": "code",
   "execution_count": 6,
   "metadata": {},
   "outputs": [],
   "source": [
    "class LabelSmoothingCrossEntropyFlat(BaseLoss):\n",
    "    y_int = True\n",
    "    def __init__(self, *args, axis=-1, **kwargs): \n",
    "        super().__init__(LabelSmoothingCrossEntropy, *args, axis=axis, **kwargs)\n",
    "    def decodes(self, x):    return x.argmax(dim=self.axis)\n",
    "    def activation(self, x): return F.softmax(x, dim=self.axis)"
   ]
  },
  {
   "cell_type": "code",
   "execution_count": 7,
   "metadata": {},
   "outputs": [
    {
     "data": {
      "text/plain": [
       "7984"
      ]
     },
     "execution_count": 7,
     "metadata": {},
     "output_type": "execute_result"
    }
   ],
   "source": [
    "counter = pickle.load(open(str(path/'counter.pkl'), 'rb'))\n",
    "vocab = make_vocab(counter)\n",
    "len(vocab)"
   ]
  },
  {
   "cell_type": "code",
   "execution_count": 8,
   "metadata": {},
   "outputs": [
    {
     "data": {
      "text/html": [
       "<div>\n",
       "<style scoped>\n",
       "    .dataframe tbody tr th:only-of-type {\n",
       "        vertical-align: middle;\n",
       "    }\n",
       "\n",
       "    .dataframe tbody tr th {\n",
       "        vertical-align: top;\n",
       "    }\n",
       "\n",
       "    .dataframe thead th {\n",
       "        text-align: right;\n",
       "    }\n",
       "</style>\n",
       "<table border=\"1\" class=\"dataframe\">\n",
       "  <thead>\n",
       "    <tr style=\"text-align: right;\">\n",
       "      <th></th>\n",
       "      <th>text</th>\n",
       "      <th>label</th>\n",
       "    </tr>\n",
       "  </thead>\n",
       "  <tbody>\n",
       "    <tr>\n",
       "      <th>0</th>\n",
       "      <td>ממש כואב ..... אני בוכה עם המשפחה שלא תדעו עוד צער</td>\n",
       "      <td>0</td>\n",
       "    </tr>\n",
       "    <tr>\n",
       "      <th>1</th>\n",
       "      <td>איש יקר שלנו</td>\n",
       "      <td>0</td>\n",
       "    </tr>\n",
       "    <tr>\n",
       "      <th>2</th>\n",
       "      <td>כל הכבוד והמון בהצלחה</td>\n",
       "      <td>0</td>\n",
       "    </tr>\n",
       "    <tr>\n",
       "      <th>3</th>\n",
       "      <td>תל חי , רובי . בכל העצב הזה היית קרן אור של תקוה . אכן יש נשיא בישראל</td>\n",
       "      <td>0</td>\n",
       "    </tr>\n",
       "    <tr>\n",
       "      <th>4</th>\n",
       "      <td>נקי כפיים ובר לבב בהצלחה לך ולנו .</td>\n",
       "      <td>0</td>\n",
       "    </tr>\n",
       "  </tbody>\n",
       "</table>\n",
       "</div>"
      ],
      "text/plain": [
       "                                                                      text  \\\n",
       "0                       ממש כואב ..... אני בוכה עם המשפחה שלא תדעו עוד צער   \n",
       "1                                                             איש יקר שלנו   \n",
       "2                                                    כל הכבוד והמון בהצלחה   \n",
       "3   תל חי , רובי . בכל העצב הזה היית קרן אור של תקוה . אכן יש נשיא בישראל    \n",
       "4                                       נקי כפיים ובר לבב בהצלחה לך ולנו .   \n",
       "\n",
       "   label  \n",
       "0      0  \n",
       "1      0  \n",
       "2      0  \n",
       "3      0  \n",
       "4      0  "
      ]
     },
     "execution_count": 8,
     "metadata": {},
     "output_type": "execute_result"
    }
   ],
   "source": [
    "train_df = pd.read_csv(f'../{data_format}_train.tsv', sep='\\t', header=None, names=['comment', 'label'])\n",
    "test_df = pd.read_csv(f'../{data_format}_test.tsv', sep='\\t', header=None, names=['comment', 'label'])\n",
    "full_df = pd.concat([train_df,test_df], sort=False)\n",
    "full_df = full_df.rename(columns={'comment': 'text'})\n",
    "full_df = full_df.drop_duplicates('text')\n",
    "full_df.head()"
   ]
  },
  {
   "cell_type": "code",
   "execution_count": 9,
   "metadata": {},
   "outputs": [],
   "source": [
    "tfms = [attrgetter('text'),\n",
    "        Tokenizer.from_folder(path, SentencePieceTokenizer, output_dir=path, sp_model='tmp/spm.model'),\n",
    "        Numericalize(vocab)]\n",
    "splits = RandomSplitter(valid_pct=0.1, seed=42)(full_df)\n",
    "dsrc = Datasets(full_df, [tfms], splits=splits, dl_type=LMDataLoader)\n",
    "data_ft = dsrc.dataloaders(bs=bs, seq_len=seq_len,\n",
    "                           cache=2048, num_workers=8, pin_memory=True)"
   ]
  },
  {
   "cell_type": "code",
   "execution_count": 10,
   "metadata": {},
   "outputs": [],
   "source": [
    "opt_func = partial(Adam)\n",
    "learn_lm = language_model_learner(data_ft, AWD_QRNN, metrics=[accuracy, Perplexity()], path=path,\n",
    "                                  opt_func = opt_func,\n",
    "                                  drop_mult=0.8, pretrained_fnames=lm_fns)\n",
    "learn_lm.loss_func = LabelSmoothingCrossEntropyFlat()#CrossEntropyLossFlat()#"
   ]
  },
  {
   "cell_type": "code",
   "execution_count": 11,
   "metadata": {},
   "outputs": [
    {
     "data": {
      "text/html": [],
      "text/plain": [
       "<IPython.core.display.HTML object>"
      ]
     },
     "metadata": {},
     "output_type": "display_data"
    },
    {
     "data": {
      "text/plain": [
       "SuggestedLRs(lr_min=0.07585775852203369, lr_steep=0.04786301031708717)"
      ]
     },
     "execution_count": 11,
     "metadata": {},
     "output_type": "execute_result"
    },
    {
     "data": {
      "image/png": "[encoded data removed]",
      "text/plain": [
       "<Figure size 432x288 with 1 Axes>"
      ]
     },
     "metadata": {
      "needs_background": "light"
     },
     "output_type": "display_data"
    }
   ],
   "source": [
    "learn_lm.lr_find()"
   ]
  },
  {
   "cell_type": "code",
   "execution_count": 12,
   "metadata": {},
   "outputs": [],
   "source": [
    "lr = 2e-1\n",
    "n_epochs = 15\n",
    "# lr *= bs/48  # Scale learning rate by batch size"
   ]
  },
  {
   "cell_type": "code",
   "execution_count": 13,
   "metadata": {},
   "outputs": [
    {
     "data": {
      "text/html": [
       "<table border=\"1\" class=\"dataframe\">\n",
       "  <thead>\n",
       "    <tr style=\"text-align: left;\">\n",
       "      <th>epoch</th>\n",
       "      <th>train_loss</th>\n",
       "      <th>valid_loss</th>\n",
       "      <th>accuracy</th>\n",
       "      <th>perplexity</th>\n",
       "      <th>time</th>\n",
       "    </tr>\n",
       "  </thead>\n",
       "  <tbody>\n",
       "    <tr>\n",
       "      <td>0</td>\n",
       "      <td>6.543953</td>\n",
       "      <td>5.660921</td>\n",
       "      <td>0.185812</td>\n",
       "      <td>287.413269</td>\n",
       "      <td>00:09</td>\n",
       "    </tr>\n",
       "    <tr>\n",
       "      <td>1</td>\n",
       "      <td>6.124665</td>\n",
       "      <td>5.509095</td>\n",
       "      <td>0.198495</td>\n",
       "      <td>246.927490</td>\n",
       "      <td>00:09</td>\n",
       "    </tr>\n",
       "    <tr>\n",
       "      <td>2</td>\n",
       "      <td>5.931855</td>\n",
       "      <td>5.578690</td>\n",
       "      <td>0.188706</td>\n",
       "      <td>264.724487</td>\n",
       "      <td>00:09</td>\n",
       "    </tr>\n",
       "    <tr>\n",
       "      <td>3</td>\n",
       "      <td>5.838555</td>\n",
       "      <td>5.603178</td>\n",
       "      <td>0.189429</td>\n",
       "      <td>271.287079</td>\n",
       "      <td>00:09</td>\n",
       "    </tr>\n",
       "    <tr>\n",
       "      <td>4</td>\n",
       "      <td>5.791818</td>\n",
       "      <td>5.622249</td>\n",
       "      <td>0.186150</td>\n",
       "      <td>276.510590</td>\n",
       "      <td>00:09</td>\n",
       "    </tr>\n",
       "    <tr>\n",
       "      <td>5</td>\n",
       "      <td>5.746021</td>\n",
       "      <td>5.589795</td>\n",
       "      <td>0.191286</td>\n",
       "      <td>267.680634</td>\n",
       "      <td>00:09</td>\n",
       "    </tr>\n",
       "    <tr>\n",
       "      <td>6</td>\n",
       "      <td>5.701417</td>\n",
       "      <td>5.574423</td>\n",
       "      <td>0.191623</td>\n",
       "      <td>263.597504</td>\n",
       "      <td>00:09</td>\n",
       "    </tr>\n",
       "    <tr>\n",
       "      <td>7</td>\n",
       "      <td>5.656559</td>\n",
       "      <td>5.535598</td>\n",
       "      <td>0.199822</td>\n",
       "      <td>253.559326</td>\n",
       "      <td>00:09</td>\n",
       "    </tr>\n",
       "    <tr>\n",
       "      <td>8</td>\n",
       "      <td>5.603333</td>\n",
       "      <td>5.496658</td>\n",
       "      <td>0.200521</td>\n",
       "      <td>243.875504</td>\n",
       "      <td>00:09</td>\n",
       "    </tr>\n",
       "    <tr>\n",
       "      <td>9</td>\n",
       "      <td>5.552659</td>\n",
       "      <td>5.463511</td>\n",
       "      <td>0.203246</td>\n",
       "      <td>235.924408</td>\n",
       "      <td>00:09</td>\n",
       "    </tr>\n",
       "    <tr>\n",
       "      <td>10</td>\n",
       "      <td>5.497022</td>\n",
       "      <td>5.431565</td>\n",
       "      <td>0.206621</td>\n",
       "      <td>228.506531</td>\n",
       "      <td>00:09</td>\n",
       "    </tr>\n",
       "    <tr>\n",
       "      <td>11</td>\n",
       "      <td>5.446647</td>\n",
       "      <td>5.405360</td>\n",
       "      <td>0.209250</td>\n",
       "      <td>222.596283</td>\n",
       "      <td>00:09</td>\n",
       "    </tr>\n",
       "    <tr>\n",
       "      <td>12</td>\n",
       "      <td>5.397305</td>\n",
       "      <td>5.382277</td>\n",
       "      <td>0.213976</td>\n",
       "      <td>217.517105</td>\n",
       "      <td>00:09</td>\n",
       "    </tr>\n",
       "    <tr>\n",
       "      <td>13</td>\n",
       "      <td>5.360225</td>\n",
       "      <td>5.373687</td>\n",
       "      <td>0.213276</td>\n",
       "      <td>215.656479</td>\n",
       "      <td>00:09</td>\n",
       "    </tr>\n",
       "    <tr>\n",
       "      <td>14</td>\n",
       "      <td>5.331185</td>\n",
       "      <td>5.370509</td>\n",
       "      <td>0.213566</td>\n",
       "      <td>214.972290</td>\n",
       "      <td>00:09</td>\n",
       "    </tr>\n",
       "  </tbody>\n",
       "</table>"
      ],
      "text/plain": [
       "<IPython.core.display.HTML object>"
      ]
     },
     "metadata": {},
     "output_type": "display_data"
    }
   ],
   "source": [
    "learn_lm.fit_one_cycle(n_epochs, lr, wd=wd, moms=moms, div=10, cbs=SaveModelCallback())"
   ]
  },
  {
   "cell_type": "code",
   "execution_count": 14,
   "metadata": {},
   "outputs": [
    {
     "data": {
      "text/html": [],
      "text/plain": [
       "<IPython.core.display.HTML object>"
      ]
     },
     "metadata": {},
     "output_type": "display_data"
    },
    {
     "data": {
      "text/plain": [
       "SuggestedLRs(lr_min=0.0013182567432522773, lr_steep=1.5848931980144698e-06)"
      ]
     },
     "execution_count": 14,
     "metadata": {},
     "output_type": "execute_result"
    },
    {
     "data": {
      "image/png": "[encoded data removed]",
      "text/plain": [
       "<Figure size 432x288 with 1 Axes>"
      ]
     },
     "metadata": {
      "needs_background": "light"
     },
     "output_type": "display_data"
    }
   ],
   "source": [
    "learn_lm.unfreeze()\n",
    "learn_lm.lr_find()"
   ]
  },
  {
   "cell_type": "code",
   "execution_count": 15,
   "metadata": {},
   "outputs": [
    {
     "data": {
      "text/html": [
       "<table border=\"1\" class=\"dataframe\">\n",
       "  <thead>\n",
       "    <tr style=\"text-align: left;\">\n",
       "      <th>epoch</th>\n",
       "      <th>train_loss</th>\n",
       "      <th>valid_loss</th>\n",
       "      <th>accuracy</th>\n",
       "      <th>perplexity</th>\n",
       "      <th>time</th>\n",
       "    </tr>\n",
       "  </thead>\n",
       "  <tbody>\n",
       "    <tr>\n",
       "      <td>0</td>\n",
       "      <td>5.271056</td>\n",
       "      <td>5.367859</td>\n",
       "      <td>0.213710</td>\n",
       "      <td>214.403412</td>\n",
       "      <td>00:11</td>\n",
       "    </tr>\n",
       "    <tr>\n",
       "      <td>1</td>\n",
       "      <td>5.250353</td>\n",
       "      <td>5.360577</td>\n",
       "      <td>0.214000</td>\n",
       "      <td>212.847641</td>\n",
       "      <td>00:11</td>\n",
       "    </tr>\n",
       "    <tr>\n",
       "      <td>2</td>\n",
       "      <td>5.229568</td>\n",
       "      <td>5.355512</td>\n",
       "      <td>0.216242</td>\n",
       "      <td>211.772308</td>\n",
       "      <td>00:11</td>\n",
       "    </tr>\n",
       "    <tr>\n",
       "      <td>3</td>\n",
       "      <td>5.205168</td>\n",
       "      <td>5.349333</td>\n",
       "      <td>0.219015</td>\n",
       "      <td>210.467834</td>\n",
       "      <td>00:11</td>\n",
       "    </tr>\n",
       "    <tr>\n",
       "      <td>4</td>\n",
       "      <td>5.182096</td>\n",
       "      <td>5.336025</td>\n",
       "      <td>0.220414</td>\n",
       "      <td>207.685471</td>\n",
       "      <td>00:11</td>\n",
       "    </tr>\n",
       "    <tr>\n",
       "      <td>5</td>\n",
       "      <td>5.148757</td>\n",
       "      <td>5.321509</td>\n",
       "      <td>0.221595</td>\n",
       "      <td>204.692505</td>\n",
       "      <td>00:11</td>\n",
       "    </tr>\n",
       "    <tr>\n",
       "      <td>6</td>\n",
       "      <td>5.118629</td>\n",
       "      <td>5.316768</td>\n",
       "      <td>0.222174</td>\n",
       "      <td>203.724411</td>\n",
       "      <td>00:11</td>\n",
       "    </tr>\n",
       "    <tr>\n",
       "      <td>7</td>\n",
       "      <td>5.089879</td>\n",
       "      <td>5.311641</td>\n",
       "      <td>0.223356</td>\n",
       "      <td>202.682602</td>\n",
       "      <td>00:11</td>\n",
       "    </tr>\n",
       "    <tr>\n",
       "      <td>8</td>\n",
       "      <td>5.060056</td>\n",
       "      <td>5.312539</td>\n",
       "      <td>0.223597</td>\n",
       "      <td>202.864670</td>\n",
       "      <td>00:11</td>\n",
       "    </tr>\n",
       "    <tr>\n",
       "      <td>9</td>\n",
       "      <td>5.029198</td>\n",
       "      <td>5.296241</td>\n",
       "      <td>0.225719</td>\n",
       "      <td>199.585114</td>\n",
       "      <td>00:11</td>\n",
       "    </tr>\n",
       "    <tr>\n",
       "      <td>10</td>\n",
       "      <td>4.997239</td>\n",
       "      <td>5.296101</td>\n",
       "      <td>0.225309</td>\n",
       "      <td>199.557144</td>\n",
       "      <td>00:11</td>\n",
       "    </tr>\n",
       "    <tr>\n",
       "      <td>11</td>\n",
       "      <td>4.967519</td>\n",
       "      <td>5.293874</td>\n",
       "      <td>0.227768</td>\n",
       "      <td>199.113251</td>\n",
       "      <td>00:11</td>\n",
       "    </tr>\n",
       "    <tr>\n",
       "      <td>12</td>\n",
       "      <td>4.941287</td>\n",
       "      <td>5.286109</td>\n",
       "      <td>0.228202</td>\n",
       "      <td>197.573257</td>\n",
       "      <td>00:11</td>\n",
       "    </tr>\n",
       "    <tr>\n",
       "      <td>13</td>\n",
       "      <td>4.915790</td>\n",
       "      <td>5.289591</td>\n",
       "      <td>0.229239</td>\n",
       "      <td>198.262283</td>\n",
       "      <td>00:11</td>\n",
       "    </tr>\n",
       "    <tr>\n",
       "      <td>14</td>\n",
       "      <td>4.894531</td>\n",
       "      <td>5.284623</td>\n",
       "      <td>0.231747</td>\n",
       "      <td>197.279831</td>\n",
       "      <td>00:11</td>\n",
       "    </tr>\n",
       "    <tr>\n",
       "      <td>15</td>\n",
       "      <td>4.871287</td>\n",
       "      <td>5.283000</td>\n",
       "      <td>0.232494</td>\n",
       "      <td>196.959778</td>\n",
       "      <td>00:11</td>\n",
       "    </tr>\n",
       "    <tr>\n",
       "      <td>16</td>\n",
       "      <td>4.851371</td>\n",
       "      <td>5.278334</td>\n",
       "      <td>0.231699</td>\n",
       "      <td>196.043030</td>\n",
       "      <td>00:11</td>\n",
       "    </tr>\n",
       "    <tr>\n",
       "      <td>17</td>\n",
       "      <td>4.832536</td>\n",
       "      <td>5.281595</td>\n",
       "      <td>0.230686</td>\n",
       "      <td>196.683289</td>\n",
       "      <td>00:11</td>\n",
       "    </tr>\n",
       "    <tr>\n",
       "      <td>18</td>\n",
       "      <td>4.811610</td>\n",
       "      <td>5.280991</td>\n",
       "      <td>0.233194</td>\n",
       "      <td>196.564499</td>\n",
       "      <td>00:11</td>\n",
       "    </tr>\n",
       "    <tr>\n",
       "      <td>19</td>\n",
       "      <td>4.796093</td>\n",
       "      <td>5.276124</td>\n",
       "      <td>0.233555</td>\n",
       "      <td>195.610306</td>\n",
       "      <td>00:11</td>\n",
       "    </tr>\n",
       "    <tr>\n",
       "      <td>20</td>\n",
       "      <td>4.779995</td>\n",
       "      <td>5.274182</td>\n",
       "      <td>0.232687</td>\n",
       "      <td>195.230682</td>\n",
       "      <td>00:11</td>\n",
       "    </tr>\n",
       "    <tr>\n",
       "      <td>21</td>\n",
       "      <td>4.771183</td>\n",
       "      <td>5.270926</td>\n",
       "      <td>0.234134</td>\n",
       "      <td>194.596176</td>\n",
       "      <td>00:11</td>\n",
       "    </tr>\n",
       "    <tr>\n",
       "      <td>22</td>\n",
       "      <td>4.756686</td>\n",
       "      <td>5.273068</td>\n",
       "      <td>0.233531</td>\n",
       "      <td>195.013336</td>\n",
       "      <td>00:11</td>\n",
       "    </tr>\n",
       "    <tr>\n",
       "      <td>23</td>\n",
       "      <td>4.753169</td>\n",
       "      <td>5.271017</td>\n",
       "      <td>0.232615</td>\n",
       "      <td>194.613800</td>\n",
       "      <td>00:11</td>\n",
       "    </tr>\n",
       "    <tr>\n",
       "      <td>24</td>\n",
       "      <td>4.742671</td>\n",
       "      <td>5.273774</td>\n",
       "      <td>0.232639</td>\n",
       "      <td>195.151108</td>\n",
       "      <td>00:11</td>\n",
       "    </tr>\n",
       "    <tr>\n",
       "      <td>25</td>\n",
       "      <td>4.735256</td>\n",
       "      <td>5.270338</td>\n",
       "      <td>0.234037</td>\n",
       "      <td>194.481705</td>\n",
       "      <td>00:11</td>\n",
       "    </tr>\n",
       "    <tr>\n",
       "      <td>26</td>\n",
       "      <td>4.735427</td>\n",
       "      <td>5.270057</td>\n",
       "      <td>0.233917</td>\n",
       "      <td>194.426987</td>\n",
       "      <td>00:11</td>\n",
       "    </tr>\n",
       "    <tr>\n",
       "      <td>27</td>\n",
       "      <td>4.733986</td>\n",
       "      <td>5.269754</td>\n",
       "      <td>0.233917</td>\n",
       "      <td>194.368225</td>\n",
       "      <td>00:11</td>\n",
       "    </tr>\n",
       "    <tr>\n",
       "      <td>28</td>\n",
       "      <td>4.725951</td>\n",
       "      <td>5.269974</td>\n",
       "      <td>0.233845</td>\n",
       "      <td>194.410858</td>\n",
       "      <td>00:11</td>\n",
       "    </tr>\n",
       "    <tr>\n",
       "      <td>29</td>\n",
       "      <td>4.723916</td>\n",
       "      <td>5.270054</td>\n",
       "      <td>0.233748</td>\n",
       "      <td>194.426529</td>\n",
       "      <td>00:11</td>\n",
       "    </tr>\n",
       "  </tbody>\n",
       "</table>"
      ],
      "text/plain": [
       "<IPython.core.display.HTML object>"
      ]
     },
     "metadata": {},
     "output_type": "display_data"
    }
   ],
   "source": [
    "lr = 5e-3\n",
    "learn_lm.fit_one_cycle(2*n_epochs, slice(lr/(2.6**4),lr), wd=wd, moms=moms, div=10, cbs=SaveModelCallback())"
   ]
  },
  {
   "cell_type": "code",
   "execution_count": 16,
   "metadata": {},
   "outputs": [],
   "source": [
    "#11\t4.921030\t5.206492\t0.232639\t182.452881\t00:11"
   ]
  },
  {
   "cell_type": "code",
   "execution_count": 17,
   "metadata": {},
   "outputs": [],
   "source": [
    "# learn_lm.save(f'{lang}fine_tuned_{tok}_{data_format}')\n",
    "# learn_lm.save_encoder(f'{lang}fine_tuned_enc_{tok}_{data_format}')"
   ]
  }
 ],
 "metadata": {
  "kernelspec": {
   "display_name": "Python 3",
   "language": "python",
   "name": "python3"
  },
  "language_info": {
   "codemirror_mode": {
    "name": "ipython",
    "version": 3
   },
   "file_extension": ".py",
   "mimetype": "text/x-python",
   "name": "python",
   "nbconvert_exporter": "python",
   "pygments_lexer": "ipython3",
   "version": "3.7.3"
  }
 },
 "nbformat": 4,
 "nbformat_minor": 2
}
