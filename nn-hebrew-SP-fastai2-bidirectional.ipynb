{
 "cells": [
  {
   "cell_type": "code",
   "execution_count": 1,
   "metadata": {},
   "outputs": [],
   "source": [
    "%load_ext autoreload\n",
    "%autoreload 2\n",
    "from fastai2.basics import *\n",
    "from fastai2.text.all import *\n",
    "torch.cuda.set_device(0)"
   ]
  },
  {
   "cell_type": "code",
   "execution_count": 2,
   "metadata": {},
   "outputs": [],
   "source": [
    "bs = 96\n",
    "wd = 1e-1\n",
    "moms = (0.95, 0.85, 0.95)#(0.8,0.7,0.8)#\n",
    "seq_len = 72"
   ]
  },
  {
   "cell_type": "code",
   "execution_count": 3,
   "metadata": {},
   "outputs": [],
   "source": [
    "lang = 'he'\n",
    "data_path = Config.config_path/'data'\n",
    "name = f'{lang}wiki'\n",
    "tok = 'SP_fwd_qrnn_v2'\n",
    "text_path = data_path/name\n",
    "path = Path(f'{data_path}/{name}_{tok}')\n",
    "data_format = 'token' #morph or token\n",
    "path.mkdir(exist_ok=True, parents=True)\n",
    "lm_fns = [f'{lang}_wt_{tok}', f'{lang}_wt_vocab_{tok}']"
   ]
  },
  {
   "cell_type": "code",
   "execution_count": 4,
   "metadata": {},
   "outputs": [],
   "source": [
    "class LabelSmoothingCrossEntropyFlat(BaseLoss):\n",
    "    y_int = True\n",
    "    def __init__(self, *args, axis=-1, **kwargs): \n",
    "        super().__init__(LabelSmoothingCrossEntropy, *args, axis=axis, **kwargs)\n",
    "    def decodes(self, x):    return x.argmax(dim=self.axis)\n",
    "    def activation(self, x): return F.softmax(x, dim=self.axis)\n",
    "    \n",
    "def backwards(tokens): return tokens.flip(0)"
   ]
  },
  {
   "cell_type": "code",
   "execution_count": 5,
   "metadata": {},
   "outputs": [
    {
     "data": {
      "text/plain": [
       "31136"
      ]
     },
     "execution_count": 5,
     "metadata": {},
     "output_type": "execute_result"
    }
   ],
   "source": [
    "counter = pickle.load(open(str(path/'counter.pkl'), 'rb'))\n",
    "vocab = make_vocab(counter)\n",
    "len(vocab)"
   ]
  },
  {
   "cell_type": "code",
   "execution_count": 6,
   "metadata": {},
   "outputs": [],
   "source": [
    "train_df = pd.read_csv(f'../{data_format}_train.tsv', sep='\\t', header=None, names=['comment', 'label'])\n",
    "train_df['is_valid'] = False\n",
    "test_df = pd.read_csv(f'../{data_format}_test.tsv', sep='\\t', header=None, names=['comment', 'label'])\n",
    "test_df['is_valid'] = True\n",
    "\n",
    "df = pd.concat([train_df,test_df], sort=False).rename(columns={'comment': 'text'})"
   ]
  },
  {
   "cell_type": "code",
   "execution_count": 7,
   "metadata": {},
   "outputs": [],
   "source": [
    "bs = 64\n",
    "splits = ColSplitter()(df)\n",
    "x_tfms = [attrgetter('text'),\n",
    "        Tokenizer.from_folder(path, SentencePieceTokenizer, output_dir=path, sp_model='tmp/spm.model'),\n",
    "        Numericalize(vocab)]\n",
    "dsrc = Datasets(df, tfms=[x_tfms, [attrgetter('label'), Categorize()]], splits=splits, dl_type=SortedDL)\n",
    "cls_data = dsrc.dataloaders(bs=bs, before_batch=pad_input_chunk, seq_len=seq_len)"
   ]
  },
  {
   "cell_type": "code",
   "execution_count": 8,
   "metadata": {},
   "outputs": [],
   "source": [
    "drop = 0.\n",
    "wd = 0.1\n",
    "pretrained = False\n",
    "loss_func = LabelSmoothingCrossEntropyFlat()#CrossEntropyLossFlat()#\n",
    "learn_c = text_classifier_learner(cls_data, AWD_QRNN, \n",
    "                                  metrics=[accuracy, BalancedAccuracy()],\n",
    "                                  path=path,\n",
    "                                  loss_func=loss_func,\n",
    "                                  drop_mult=drop, pretrained=pretrained, wd=wd)\n",
    "learn_c = learn_c.load(f'{lang}clas_{tok}_{data_format}_traintest')"
   ]
  },
  {
   "cell_type": "code",
   "execution_count": 9,
   "metadata": {},
   "outputs": [],
   "source": [
    "bs = 32\n",
    "splits = ColSplitter()(df)\n",
    "x_tfms = [attrgetter('text'),\n",
    "         Tokenizer.from_folder(path, SentencePieceTokenizer, output_dir=path, sp_model='tmp/spm.model'),\n",
    "         Numericalize(vocab),\n",
    "         backwards]\n",
    "dsrc = Datasets(df, tfms=[x_tfms, [attrgetter('label'), Categorize()]], splits=splits, dl_type=SortedDL)\n",
    "cls_data_bwd = dsrc.dataloaders(bs=bs, before_batch=pad_input_chunk, seq_len=seq_len)"
   ]
  },
  {
   "cell_type": "code",
   "execution_count": 10,
   "metadata": {},
   "outputs": [],
   "source": [
    "drop = 0.5\n",
    "wd = 0.1\n",
    "pretrained = False\n",
    "loss_func = LabelSmoothingCrossEntropyFlat()#CrossEntropyLossFlat()#\n",
    "cbs = SaveModelCallback('accuracy')\n",
    "learn_c_bwd = text_classifier_learner(cls_data_bwd, AWD_QRNN, \n",
    "                                  metrics=[accuracy, BalancedAccuracy()],\n",
    "                                  path=path,\n",
    "                                  loss_func=loss_func,\n",
    "                                  drop_mult=drop, pretrained=pretrained, wd=wd)\n",
    "learn_c_bwd = learn_c_bwd.load(f'{lang}clas_bwd_{tok}_{data_format}_traintest')"
   ]
  },
  {
   "cell_type": "code",
   "execution_count": 11,
   "metadata": {},
   "outputs": [],
   "source": [
    "bal_acc = BalancedAccuracy().func\n",
    "f1 = F1Score().func"
   ]
  },
  {
   "cell_type": "code",
   "execution_count": 12,
   "metadata": {},
   "outputs": [
    {
     "data": {
      "text/html": [],
      "text/plain": [
       "<IPython.core.display.HTML object>"
      ]
     },
     "metadata": {},
     "output_type": "display_data"
    },
    {
     "data": {
      "text/plain": [
       "(TensorCategory(0.9441), 0.9327320268903039, 0.8614363124167047)"
      ]
     },
     "execution_count": 12,
     "metadata": {},
     "output_type": "execute_result"
    }
   ],
   "source": [
    "preds1, targets1 = learn_c.get_preds()\n",
    "pred_label1 = preds1.argmax(dim=-1)\n",
    "accuracy(preds1, targets1), bal_acc(pred_label1, targets1), f1(pred_label1, targets1, average='macro')"
   ]
  },
  {
   "cell_type": "code",
   "execution_count": 13,
   "metadata": {},
   "outputs": [
    {
     "data": {
      "text/html": [],
      "text/plain": [
       "<IPython.core.display.HTML object>"
      ]
     },
     "metadata": {},
     "output_type": "display_data"
    },
    {
     "data": {
      "text/plain": [
       "(TensorCategory(0.9434), 0.8829240754394382, 0.8554880598793048)"
      ]
     },
     "execution_count": 13,
     "metadata": {},
     "output_type": "execute_result"
    }
   ],
   "source": [
    "preds2, targets2 = learn_c_bwd.get_preds()\n",
    "pred_label2 = preds2.argmax(dim=-1)\n",
    "accuracy(preds2, targets2), bal_acc(pred_label2, targets2), f1(pred_label2, targets2, average='macro')"
   ]
  },
  {
   "cell_type": "code",
   "execution_count": 14,
   "metadata": {},
   "outputs": [
    {
     "data": {
      "text/plain": [
       "True"
      ]
     },
     "execution_count": 14,
     "metadata": {},
     "output_type": "execute_result"
    }
   ],
   "source": [
    "all(targets1 == targets2)"
   ]
  },
  {
   "cell_type": "code",
   "execution_count": 15,
   "metadata": {},
   "outputs": [
    {
     "data": {
      "text/plain": [
       "(TensorCategory(0.9422), 0.8826870153467797, 0.8510464507380527)"
      ]
     },
     "execution_count": 15,
     "metadata": {},
     "output_type": "execute_result"
    }
   ],
   "source": [
    "avg_preds = (preds1 + preds2) / 2\n",
    "avg_pred_label = avg_preds.argmax(dim=-1)\n",
    "accuracy(avg_preds, targets2), bal_acc(avg_pred_label, targets2), f1(avg_pred_label, targets2, average='macro')"
   ]
  }
 ],
 "metadata": {
  "kernelspec": {
   "display_name": "Python 3",
   "language": "python",
   "name": "python3"
  },
  "language_info": {
   "codemirror_mode": {
    "name": "ipython",
    "version": 3
   },
   "file_extension": ".py",
   "mimetype": "text/x-python",
   "name": "python",
   "nbconvert_exporter": "python",
   "pygments_lexer": "ipython3",
   "version": "3.7.6"
  }
 },
 "nbformat": 4,
 "nbformat_minor": 2
}
