{
 "cells": [
  {
   "cell_type": "code",
   "execution_count": 1,
   "metadata": {},
   "outputs": [],
   "source": [
    "import pandas as pd\n",
    "from tqdm import tqdm"
   ]
  },
  {
   "cell_type": "code",
   "execution_count": 2,
   "metadata": {},
   "outputs": [
    {
     "data": {
      "text/html": [
       "<div>\n",
       "<style scoped>\n",
       "    .dataframe tbody tr th:only-of-type {\n",
       "        vertical-align: middle;\n",
       "    }\n",
       "\n",
       "    .dataframe tbody tr th {\n",
       "        vertical-align: top;\n",
       "    }\n",
       "\n",
       "    .dataframe thead th {\n",
       "        text-align: right;\n",
       "    }\n",
       "</style>\n",
       "<table border=\"1\" class=\"dataframe\">\n",
       "  <thead>\n",
       "    <tr style=\"text-align: right;\">\n",
       "      <th></th>\n",
       "      <th>text</th>\n",
       "      <th>label</th>\n",
       "      <th>is_valid</th>\n",
       "    </tr>\n",
       "  </thead>\n",
       "  <tbody>\n",
       "    <tr>\n",
       "      <th>0</th>\n",
       "      <td>ממש כואב ..... אני בוכה עם המשפחה שלא תדעו עוד...</td>\n",
       "      <td>0</td>\n",
       "      <td>False</td>\n",
       "    </tr>\n",
       "    <tr>\n",
       "      <th>1</th>\n",
       "      <td>איש יקר שלנו</td>\n",
       "      <td>0</td>\n",
       "      <td>False</td>\n",
       "    </tr>\n",
       "    <tr>\n",
       "      <th>2</th>\n",
       "      <td>כל הכבוד והמון בהצלחה</td>\n",
       "      <td>0</td>\n",
       "      <td>False</td>\n",
       "    </tr>\n",
       "    <tr>\n",
       "      <th>3</th>\n",
       "      <td>תל חי , רובי . בכל העצב הזה היית קרן אור של ת...</td>\n",
       "      <td>0</td>\n",
       "      <td>False</td>\n",
       "    </tr>\n",
       "    <tr>\n",
       "      <th>4</th>\n",
       "      <td>נקי כפיים ובר לבב בהצלחה לך ולנו .</td>\n",
       "      <td>0</td>\n",
       "      <td>False</td>\n",
       "    </tr>\n",
       "  </tbody>\n",
       "</table>\n",
       "</div>"
      ],
      "text/plain": [
       "                                                text  label  is_valid\n",
       "0  ממש כואב ..... אני בוכה עם המשפחה שלא תדעו עוד...      0     False\n",
       "1                                       איש יקר שלנו      0     False\n",
       "2                              כל הכבוד והמון בהצלחה      0     False\n",
       "3   תל חי , רובי . בכל העצב הזה היית קרן אור של ת...      0     False\n",
       "4                 נקי כפיים ובר לבב בהצלחה לך ולנו .      0     False"
      ]
     },
     "execution_count": 2,
     "metadata": {},
     "output_type": "execute_result"
    }
   ],
   "source": [
    "data_format = 'token'\n",
    "train_df = pd.read_csv(f{data_format}_train.tsv', sep='\\t', header=None, names=['comment', 'label'])\n",
    "train_df['is_valid'] = False\n",
    "test_df = pd.read_csv(f'{data_format}_test.tsv', sep='\\t', header=None, names=['comment', 'label'])\n",
    "test_df['is_valid'] = True\n",
    "\n",
    "df = pd.concat([train_df,test_df], sort=False).rename(columns={'comment': 'text'})\n",
    "df.head()"
   ]
  },
  {
   "cell_type": "code",
   "execution_count": 3,
   "metadata": {},
   "outputs": [
    {
     "data": {
      "text/plain": [
       "(10244, 2560, 12804)"
      ]
     },
     "execution_count": 3,
     "metadata": {},
     "output_type": "execute_result"
    }
   ],
   "source": [
    "len(train_df), len(test_df), len(df)"
   ]
  },
  {
   "cell_type": "code",
   "execution_count": 4,
   "metadata": {},
   "outputs": [
    {
     "name": "stdout",
     "output_type": "stream",
     "text": [
      "1297 0.506640625\n"
     ]
    }
   ],
   "source": [
    "total = 0\n",
    "train_comments = set(train_df.comment)\n",
    "for comment in test_df.comment:\n",
    "    if comment in train_comments: total += 1\n",
    "print(total, total / len(test_df))"
   ]
  },
  {
   "cell_type": "code",
   "execution_count": 5,
   "metadata": {},
   "outputs": [
    {
     "name": "stderr",
     "output_type": "stream",
     "text": [
      "12804it [00:12, 1048.60it/s]\n"
     ]
    },
    {
     "data": {
      "text/plain": [
       "(2756, 1297, 132, 4185)"
      ]
     },
     "execution_count": 5,
     "metadata": {},
     "output_type": "execute_result"
    }
   ],
   "source": [
    "dup_train_train = []\n",
    "dup_train_test = []\n",
    "dup_test_test = []\n",
    "txt_set = set()\n",
    "for i, row in tqdm(df.iterrows()):\n",
    "    txt = row.text\n",
    "    orig_dset = row.is_valid\n",
    "    if txt in txt_set: continue\n",
    "    txt_set.add(txt)\n",
    "    curr_df = df[df.text == txt]\n",
    "    dsets = curr_df.is_valid\n",
    "    n_train, n_test = sum(dsets == False), sum(dsets == True)\n",
    "    if orig_dset == False:\n",
    "        if n_train > 1: dup_train_train.append(n_train-1)\n",
    "        if n_test > 0: dup_train_test.append(n_test)\n",
    "    elif orig_dset == True:\n",
    "        if n_test > 1: dup_test_test.append(n_test-1)\n",
    "sum(dup_train_train), sum(dup_train_test), sum(dup_test_test), sum(dup_train_train) + sum(dup_train_test) + sum(dup_test_test)"
   ]
  },
  {
   "cell_type": "code",
   "execution_count": 6,
   "metadata": {},
   "outputs": [
    {
     "data": {
      "text/plain": [
       "(12804, 8619, 4185)"
      ]
     },
     "execution_count": 6,
     "metadata": {},
     "output_type": "execute_result"
    }
   ],
   "source": [
    "full = df\n",
    "clean = df.drop_duplicates('text')\n",
    "len(full), len(clean), len(full) - len(clean)"
   ]
  }
 ],
 "metadata": {
  "kernelspec": {
   "display_name": "Python 3",
   "language": "python",
   "name": "python3"
  },
  "language_info": {
   "codemirror_mode": {
    "name": "ipython",
    "version": 3
   },
   "file_extension": ".py",
   "mimetype": "text/x-python",
   "name": "python",
   "nbconvert_exporter": "python",
   "pygments_lexer": "ipython3",
   "version": "3.7.3"
  },
  "pycharm": {
   "stem_cell": {
    "cell_type": "raw",
    "source": [],
    "metadata": {
     "collapsed": false
    }
   }
  }
 },
 "nbformat": 4,
 "nbformat_minor": 2
}