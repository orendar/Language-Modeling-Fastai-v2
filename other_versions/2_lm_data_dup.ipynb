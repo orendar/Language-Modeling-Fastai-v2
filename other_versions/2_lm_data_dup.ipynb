{
 "cells": [
  {
   "cell_type": "code",
   "execution_count": 1,
   "metadata": {},
   "outputs": [],
   "source": [
    "# !pip uninstall --yes fastcore && pip install --upgrade git+git://github.com/fastai/fastcore.git "
   ]
  },
  {
   "cell_type": "code",
   "execution_count": 2,
   "metadata": {
    "scrolled": false
   },
   "outputs": [],
   "source": [
    "# !pip uninstall --yes fastai2 && pip install --upgrade git+git://github.com/fastai/fastai2.git"
   ]
  },
  {
   "cell_type": "code",
   "execution_count": 3,
   "metadata": {},
   "outputs": [],
   "source": [
    "%load_ext autoreload\n",
    "%autoreload 2\n",
    "from fastai2.basics import *\n",
    "from fastai2.text.all import *\n",
    "torch.cuda.set_device(0)"
   ]
  },
  {
   "cell_type": "code",
   "execution_count": 4,
   "metadata": {},
   "outputs": [],
   "source": [
    "bs = 192\n",
    "wd = 1e-1\n",
    "moms = (0.8,0.7,0.8) # (0.95, 0.85, 0.95)#\n",
    "seq_len = 72"
   ]
  },
  {
   "cell_type": "code",
   "execution_count": 5,
   "metadata": {},
   "outputs": [],
   "source": [
    "lang = 'he'\n",
    "data_path = Config.config_path/'data'\n",
    "name = f'{lang}wiki'\n",
    "tok = 'SP_data_fwd'\n",
    "text_path = data_path/name\n",
    "path = Path(f'{data_path}/{name}_{tok}')\n",
    "data_format = 'token' #morph or token\n",
    "path.mkdir(exist_ok=True, parents=True)\n",
    "lm_fns = [f'{lang}_wt_{tok}', f'{lang}_wt_vocab_{tok}']"
   ]
  },
  {
   "cell_type": "code",
   "execution_count": 6,
   "metadata": {},
   "outputs": [],
   "source": [
    "class LabelSmoothingCrossEntropyFlat(BaseLoss):\n",
    "    y_int = True\n",
    "    def __init__(self, *args, axis=-1, **kwargs): \n",
    "        super().__init__(LabelSmoothingCrossEntropy, *args, axis=axis, **kwargs)\n",
    "    def decodes(self, x):    return x.argmax(dim=self.axis)\n",
    "    def activation(self, x): return F.softmax(x, dim=self.axis)"
   ]
  },
  {
   "cell_type": "code",
   "execution_count": 7,
   "metadata": {},
   "outputs": [
    {
     "data": {
      "text/plain": [
       "7984"
      ]
     },
     "execution_count": 7,
     "metadata": {},
     "output_type": "execute_result"
    }
   ],
   "source": [
    "counter = pickle.load(open(str(path/'counter.pkl'), 'rb'))\n",
    "vocab = make_vocab(counter)\n",
    "len(vocab)"
   ]
  },
  {
   "cell_type": "code",
   "execution_count": 8,
   "metadata": {},
   "outputs": [
    {
     "data": {
      "text/html": [
       "<div>\n",
       "<style scoped>\n",
       "    .dataframe tbody tr th:only-of-type {\n",
       "        vertical-align: middle;\n",
       "    }\n",
       "\n",
       "    .dataframe tbody tr th {\n",
       "        vertical-align: top;\n",
       "    }\n",
       "\n",
       "    .dataframe thead th {\n",
       "        text-align: right;\n",
       "    }\n",
       "</style>\n",
       "<table border=\"1\" class=\"dataframe\">\n",
       "  <thead>\n",
       "    <tr style=\"text-align: right;\">\n",
       "      <th></th>\n",
       "      <th>text</th>\n",
       "      <th>label</th>\n",
       "    </tr>\n",
       "  </thead>\n",
       "  <tbody>\n",
       "    <tr>\n",
       "      <th>0</th>\n",
       "      <td>ממש כואב ..... אני בוכה עם המשפחה שלא תדעו עוד צער</td>\n",
       "      <td>0</td>\n",
       "    </tr>\n",
       "    <tr>\n",
       "      <th>1</th>\n",
       "      <td>איש יקר שלנו</td>\n",
       "      <td>0</td>\n",
       "    </tr>\n",
       "    <tr>\n",
       "      <th>2</th>\n",
       "      <td>כל הכבוד והמון בהצלחה</td>\n",
       "      <td>0</td>\n",
       "    </tr>\n",
       "    <tr>\n",
       "      <th>3</th>\n",
       "      <td>תל חי , רובי . בכל העצב הזה היית קרן אור של תקוה . אכן יש נשיא בישראל</td>\n",
       "      <td>0</td>\n",
       "    </tr>\n",
       "    <tr>\n",
       "      <th>4</th>\n",
       "      <td>נקי כפיים ובר לבב בהצלחה לך ולנו .</td>\n",
       "      <td>0</td>\n",
       "    </tr>\n",
       "  </tbody>\n",
       "</table>\n",
       "</div>"
      ],
      "text/plain": [
       "                                                                      text  \\\n",
       "0                       ממש כואב ..... אני בוכה עם המשפחה שלא תדעו עוד צער   \n",
       "1                                                             איש יקר שלנו   \n",
       "2                                                    כל הכבוד והמון בהצלחה   \n",
       "3   תל חי , רובי . בכל העצב הזה היית קרן אור של תקוה . אכן יש נשיא בישראל    \n",
       "4                                       נקי כפיים ובר לבב בהצלחה לך ולנו .   \n",
       "\n",
       "   label  \n",
       "0      0  \n",
       "1      0  \n",
       "2      0  \n",
       "3      0  \n",
       "4      0  "
      ]
     },
     "execution_count": 8,
     "metadata": {},
     "output_type": "execute_result"
    }
   ],
   "source": [
    "train_df = pd.read_csv(f'../{data_format}_train.tsv', sep='\\t', header=None, names=['comment', 'label'])\n",
    "test_df = pd.read_csv(f'../{data_format}_test.tsv', sep='\\t', header=None, names=['comment', 'label'])\n",
    "full_df = pd.concat([train_df,test_df], sort=False)\n",
    "full_df = full_df.rename(columns={'comment': 'text'})\n",
    "full_df.head()"
   ]
  },
  {
   "cell_type": "code",
   "execution_count": 9,
   "metadata": {},
   "outputs": [],
   "source": [
    "tfms = [attrgetter('text'),\n",
    "        Tokenizer.from_folder(path, SentencePieceTokenizer, output_dir=path, sp_model='tmp/spm.model'),\n",
    "        Numericalize(vocab)]\n",
    "splits = RandomSplitter(valid_pct=0.1, seed=42)(full_df)\n",
    "dsrc = Datasets(full_df, [tfms], splits=splits, dl_type=LMDataLoader)\n",
    "data_ft = dsrc.dataloaders(bs=bs, seq_len=seq_len,\n",
    "                           cache=2048, num_workers=8, pin_memory=True)"
   ]
  },
  {
   "cell_type": "code",
   "execution_count": 10,
   "metadata": {},
   "outputs": [],
   "source": [
    "opt_func = partial(Adam)\n",
    "learn_lm = language_model_learner(data_ft, AWD_QRNN, metrics=[accuracy, Perplexity()], path=path,\n",
    "                                  opt_func = opt_func,\n",
    "                                  drop_mult=0., pretrained_fnames=lm_fns)\n",
    "learn_lm.loss_func = LabelSmoothingCrossEntropyFlat()#CrossEntropyLossFlat()#"
   ]
  },
  {
   "cell_type": "code",
   "execution_count": 11,
   "metadata": {},
   "outputs": [
    {
     "data": {
      "text/html": [],
      "text/plain": [
       "<IPython.core.display.HTML object>"
      ]
     },
     "metadata": {},
     "output_type": "display_data"
    },
    {
     "data": {
      "text/plain": [
       "SuggestedLRs(lr_min=0.09120108485221863, lr_steep=0.02754228748381138)"
      ]
     },
     "execution_count": 11,
     "metadata": {},
     "output_type": "execute_result"
    },
    {
     "data": {
      "image/png": "[encoded data removed]",
      "text/plain": [
       "<Figure size 432x288 with 1 Axes>"
      ]
     },
     "metadata": {
      "needs_background": "light"
     },
     "output_type": "display_data"
    }
   ],
   "source": [
    "learn_lm.lr_find()"
   ]
  },
  {
   "cell_type": "code",
   "execution_count": 12,
   "metadata": {},
   "outputs": [],
   "source": [
    "lr = 1e-1\n",
    "n_epochs = 15\n",
    "# lr *= bs/48  # Scale learning rate by batch size"
   ]
  },
  {
   "cell_type": "code",
   "execution_count": 13,
   "metadata": {},
   "outputs": [
    {
     "data": {
      "text/html": [
       "<table border=\"1\" class=\"dataframe\">\n",
       "  <thead>\n",
       "    <tr style=\"text-align: left;\">\n",
       "      <th>epoch</th>\n",
       "      <th>train_loss</th>\n",
       "      <th>valid_loss</th>\n",
       "      <th>accuracy</th>\n",
       "      <th>perplexity</th>\n",
       "      <th>time</th>\n",
       "    </tr>\n",
       "  </thead>\n",
       "  <tbody>\n",
       "    <tr>\n",
       "      <td>0</td>\n",
       "      <td>5.715991</td>\n",
       "      <td>5.322847</td>\n",
       "      <td>0.215558</td>\n",
       "      <td>204.966568</td>\n",
       "      <td>00:13</td>\n",
       "    </tr>\n",
       "    <tr>\n",
       "      <td>1</td>\n",
       "      <td>5.279537</td>\n",
       "      <td>5.147279</td>\n",
       "      <td>0.232340</td>\n",
       "      <td>171.962982</td>\n",
       "      <td>00:13</td>\n",
       "    </tr>\n",
       "    <tr>\n",
       "      <td>2</td>\n",
       "      <td>5.033185</td>\n",
       "      <td>5.150236</td>\n",
       "      <td>0.236780</td>\n",
       "      <td>172.472122</td>\n",
       "      <td>00:13</td>\n",
       "    </tr>\n",
       "    <tr>\n",
       "      <td>3</td>\n",
       "      <td>4.863025</td>\n",
       "      <td>5.130153</td>\n",
       "      <td>0.241555</td>\n",
       "      <td>169.043015</td>\n",
       "      <td>00:13</td>\n",
       "    </tr>\n",
       "    <tr>\n",
       "      <td>4</td>\n",
       "      <td>4.708961</td>\n",
       "      <td>5.072012</td>\n",
       "      <td>0.249720</td>\n",
       "      <td>159.494980</td>\n",
       "      <td>00:13</td>\n",
       "    </tr>\n",
       "    <tr>\n",
       "      <td>5</td>\n",
       "      <td>4.583487</td>\n",
       "      <td>4.975619</td>\n",
       "      <td>0.262994</td>\n",
       "      <td>144.838425</td>\n",
       "      <td>00:13</td>\n",
       "    </tr>\n",
       "    <tr>\n",
       "      <td>6</td>\n",
       "      <td>4.452194</td>\n",
       "      <td>4.930219</td>\n",
       "      <td>0.268374</td>\n",
       "      <td>138.409851</td>\n",
       "      <td>00:13</td>\n",
       "    </tr>\n",
       "    <tr>\n",
       "      <td>7</td>\n",
       "      <td>4.333234</td>\n",
       "      <td>4.883780</td>\n",
       "      <td>0.277127</td>\n",
       "      <td>132.129105</td>\n",
       "      <td>00:13</td>\n",
       "    </tr>\n",
       "    <tr>\n",
       "      <td>8</td>\n",
       "      <td>4.208004</td>\n",
       "      <td>4.791613</td>\n",
       "      <td>0.290120</td>\n",
       "      <td>120.495583</td>\n",
       "      <td>00:13</td>\n",
       "    </tr>\n",
       "    <tr>\n",
       "      <td>9</td>\n",
       "      <td>4.082980</td>\n",
       "      <td>4.695264</td>\n",
       "      <td>0.306225</td>\n",
       "      <td>109.427734</td>\n",
       "      <td>00:13</td>\n",
       "    </tr>\n",
       "    <tr>\n",
       "      <td>10</td>\n",
       "      <td>3.962363</td>\n",
       "      <td>4.616737</td>\n",
       "      <td>0.322012</td>\n",
       "      <td>101.163429</td>\n",
       "      <td>00:13</td>\n",
       "    </tr>\n",
       "    <tr>\n",
       "      <td>11</td>\n",
       "      <td>3.836696</td>\n",
       "      <td>4.554961</td>\n",
       "      <td>0.333315</td>\n",
       "      <td>95.103020</td>\n",
       "      <td>00:13</td>\n",
       "    </tr>\n",
       "    <tr>\n",
       "      <td>12</td>\n",
       "      <td>3.732692</td>\n",
       "      <td>4.513263</td>\n",
       "      <td>0.340612</td>\n",
       "      <td>91.219002</td>\n",
       "      <td>00:13</td>\n",
       "    </tr>\n",
       "    <tr>\n",
       "      <td>13</td>\n",
       "      <td>3.653340</td>\n",
       "      <td>4.492478</td>\n",
       "      <td>0.345848</td>\n",
       "      <td>89.342598</td>\n",
       "      <td>00:13</td>\n",
       "    </tr>\n",
       "    <tr>\n",
       "      <td>14</td>\n",
       "      <td>3.596335</td>\n",
       "      <td>4.488805</td>\n",
       "      <td>0.346463</td>\n",
       "      <td>89.015038</td>\n",
       "      <td>00:13</td>\n",
       "    </tr>\n",
       "  </tbody>\n",
       "</table>"
      ],
      "text/plain": [
       "<IPython.core.display.HTML object>"
      ]
     },
     "metadata": {},
     "output_type": "display_data"
    }
   ],
   "source": [
    "learn_lm.fit_one_cycle(n_epochs, lr, wd=wd, moms=moms, div=10, cbs=SaveModelCallback())"
   ]
  },
  {
   "cell_type": "code",
   "execution_count": 14,
   "metadata": {},
   "outputs": [
    {
     "data": {
      "text/html": [],
      "text/plain": [
       "<IPython.core.display.HTML object>"
      ]
     },
     "metadata": {},
     "output_type": "display_data"
    },
    {
     "data": {
      "text/plain": [
       "SuggestedLRs(lr_min=0.00020892962347716094, lr_steep=0.0003311311302240938)"
      ]
     },
     "execution_count": 14,
     "metadata": {},
     "output_type": "execute_result"
    },
    {
     "data": {
      "image/png": "[encoded data removed]",
      "text/plain": [
       "<Figure size 432x288 with 1 Axes>"
      ]
     },
     "metadata": {
      "needs_background": "light"
     },
     "output_type": "display_data"
    }
   ],
   "source": [
    "learn_lm.unfreeze()\n",
    "learn_lm.lr_find()"
   ]
  },
  {
   "cell_type": "code",
   "execution_count": 15,
   "metadata": {},
   "outputs": [
    {
     "data": {
      "text/html": [
       "<table border=\"1\" class=\"dataframe\">\n",
       "  <thead>\n",
       "    <tr style=\"text-align: left;\">\n",
       "      <th>epoch</th>\n",
       "      <th>train_loss</th>\n",
       "      <th>valid_loss</th>\n",
       "      <th>accuracy</th>\n",
       "      <th>perplexity</th>\n",
       "      <th>time</th>\n",
       "    </tr>\n",
       "  </thead>\n",
       "  <tbody>\n",
       "    <tr>\n",
       "      <td>0</td>\n",
       "      <td>3.486134</td>\n",
       "      <td>4.488760</td>\n",
       "      <td>0.353326</td>\n",
       "      <td>89.011002</td>\n",
       "      <td>00:16</td>\n",
       "    </tr>\n",
       "    <tr>\n",
       "      <td>1</td>\n",
       "      <td>3.453853</td>\n",
       "      <td>4.457891</td>\n",
       "      <td>0.361048</td>\n",
       "      <td>86.305336</td>\n",
       "      <td>00:17</td>\n",
       "    </tr>\n",
       "    <tr>\n",
       "      <td>2</td>\n",
       "      <td>3.407042</td>\n",
       "      <td>4.408073</td>\n",
       "      <td>0.374566</td>\n",
       "      <td>82.111122</td>\n",
       "      <td>00:16</td>\n",
       "    </tr>\n",
       "    <tr>\n",
       "      <td>3</td>\n",
       "      <td>3.336801</td>\n",
       "      <td>4.345829</td>\n",
       "      <td>0.394151</td>\n",
       "      <td>77.156013</td>\n",
       "      <td>00:17</td>\n",
       "    </tr>\n",
       "    <tr>\n",
       "      <td>4</td>\n",
       "      <td>3.253837</td>\n",
       "      <td>4.264852</td>\n",
       "      <td>0.413628</td>\n",
       "      <td>71.154388</td>\n",
       "      <td>00:17</td>\n",
       "    </tr>\n",
       "    <tr>\n",
       "      <td>5</td>\n",
       "      <td>3.156654</td>\n",
       "      <td>4.205317</td>\n",
       "      <td>0.433992</td>\n",
       "      <td>67.041847</td>\n",
       "      <td>00:16</td>\n",
       "    </tr>\n",
       "    <tr>\n",
       "      <td>6</td>\n",
       "      <td>3.051083</td>\n",
       "      <td>4.116993</td>\n",
       "      <td>0.454373</td>\n",
       "      <td>61.374439</td>\n",
       "      <td>00:16</td>\n",
       "    </tr>\n",
       "    <tr>\n",
       "      <td>7</td>\n",
       "      <td>2.949918</td>\n",
       "      <td>4.010643</td>\n",
       "      <td>0.485858</td>\n",
       "      <td>55.182369</td>\n",
       "      <td>00:17</td>\n",
       "    </tr>\n",
       "    <tr>\n",
       "      <td>8</td>\n",
       "      <td>2.848586</td>\n",
       "      <td>3.944436</td>\n",
       "      <td>0.503924</td>\n",
       "      <td>51.647194</td>\n",
       "      <td>00:16</td>\n",
       "    </tr>\n",
       "    <tr>\n",
       "      <td>9</td>\n",
       "      <td>2.753179</td>\n",
       "      <td>3.869624</td>\n",
       "      <td>0.527543</td>\n",
       "      <td>47.924358</td>\n",
       "      <td>00:17</td>\n",
       "    </tr>\n",
       "    <tr>\n",
       "      <td>10</td>\n",
       "      <td>2.664051</td>\n",
       "      <td>3.796637</td>\n",
       "      <td>0.549353</td>\n",
       "      <td>44.551098</td>\n",
       "      <td>00:17</td>\n",
       "    </tr>\n",
       "    <tr>\n",
       "      <td>11</td>\n",
       "      <td>2.587269</td>\n",
       "      <td>3.740942</td>\n",
       "      <td>0.564661</td>\n",
       "      <td>42.137665</td>\n",
       "      <td>00:16</td>\n",
       "    </tr>\n",
       "    <tr>\n",
       "      <td>12</td>\n",
       "      <td>2.519258</td>\n",
       "      <td>3.681877</td>\n",
       "      <td>0.583966</td>\n",
       "      <td>39.720875</td>\n",
       "      <td>00:16</td>\n",
       "    </tr>\n",
       "    <tr>\n",
       "      <td>13</td>\n",
       "      <td>2.462384</td>\n",
       "      <td>3.632551</td>\n",
       "      <td>0.598262</td>\n",
       "      <td>37.809162</td>\n",
       "      <td>00:17</td>\n",
       "    </tr>\n",
       "    <tr>\n",
       "      <td>14</td>\n",
       "      <td>2.408077</td>\n",
       "      <td>3.594636</td>\n",
       "      <td>0.610189</td>\n",
       "      <td>36.402435</td>\n",
       "      <td>00:16</td>\n",
       "    </tr>\n",
       "    <tr>\n",
       "      <td>15</td>\n",
       "      <td>2.361124</td>\n",
       "      <td>3.571820</td>\n",
       "      <td>0.617486</td>\n",
       "      <td>35.581291</td>\n",
       "      <td>00:16</td>\n",
       "    </tr>\n",
       "    <tr>\n",
       "      <td>16</td>\n",
       "      <td>2.318039</td>\n",
       "      <td>3.537149</td>\n",
       "      <td>0.628861</td>\n",
       "      <td>34.368786</td>\n",
       "      <td>00:16</td>\n",
       "    </tr>\n",
       "    <tr>\n",
       "      <td>17</td>\n",
       "      <td>2.281451</td>\n",
       "      <td>3.506181</td>\n",
       "      <td>0.638310</td>\n",
       "      <td>33.320766</td>\n",
       "      <td>00:16</td>\n",
       "    </tr>\n",
       "    <tr>\n",
       "      <td>18</td>\n",
       "      <td>2.252196</td>\n",
       "      <td>3.491351</td>\n",
       "      <td>0.643157</td>\n",
       "      <td>32.830269</td>\n",
       "      <td>00:16</td>\n",
       "    </tr>\n",
       "    <tr>\n",
       "      <td>19</td>\n",
       "      <td>2.224693</td>\n",
       "      <td>3.466346</td>\n",
       "      <td>0.652199</td>\n",
       "      <td>32.019531</td>\n",
       "      <td>00:16</td>\n",
       "    </tr>\n",
       "    <tr>\n",
       "      <td>20</td>\n",
       "      <td>2.199852</td>\n",
       "      <td>3.449352</td>\n",
       "      <td>0.657073</td>\n",
       "      <td>31.479973</td>\n",
       "      <td>00:16</td>\n",
       "    </tr>\n",
       "    <tr>\n",
       "      <td>21</td>\n",
       "      <td>2.182826</td>\n",
       "      <td>3.435458</td>\n",
       "      <td>0.660699</td>\n",
       "      <td>31.045641</td>\n",
       "      <td>00:16</td>\n",
       "    </tr>\n",
       "    <tr>\n",
       "      <td>22</td>\n",
       "      <td>2.166351</td>\n",
       "      <td>3.422970</td>\n",
       "      <td>0.663095</td>\n",
       "      <td>30.660336</td>\n",
       "      <td>00:17</td>\n",
       "    </tr>\n",
       "    <tr>\n",
       "      <td>23</td>\n",
       "      <td>2.151814</td>\n",
       "      <td>3.413595</td>\n",
       "      <td>0.666504</td>\n",
       "      <td>30.374243</td>\n",
       "      <td>00:16</td>\n",
       "    </tr>\n",
       "    <tr>\n",
       "      <td>24</td>\n",
       "      <td>2.141091</td>\n",
       "      <td>3.409030</td>\n",
       "      <td>0.667933</td>\n",
       "      <td>30.235907</td>\n",
       "      <td>00:17</td>\n",
       "    </tr>\n",
       "    <tr>\n",
       "      <td>25</td>\n",
       "      <td>2.129781</td>\n",
       "      <td>3.403136</td>\n",
       "      <td>0.669750</td>\n",
       "      <td>30.058229</td>\n",
       "      <td>00:17</td>\n",
       "    </tr>\n",
       "    <tr>\n",
       "      <td>26</td>\n",
       "      <td>2.123297</td>\n",
       "      <td>3.399824</td>\n",
       "      <td>0.670772</td>\n",
       "      <td>29.958838</td>\n",
       "      <td>00:16</td>\n",
       "    </tr>\n",
       "    <tr>\n",
       "      <td>27</td>\n",
       "      <td>2.117297</td>\n",
       "      <td>3.398681</td>\n",
       "      <td>0.671360</td>\n",
       "      <td>29.924601</td>\n",
       "      <td>00:16</td>\n",
       "    </tr>\n",
       "    <tr>\n",
       "      <td>28</td>\n",
       "      <td>2.115440</td>\n",
       "      <td>3.397688</td>\n",
       "      <td>0.671531</td>\n",
       "      <td>29.894899</td>\n",
       "      <td>00:17</td>\n",
       "    </tr>\n",
       "    <tr>\n",
       "      <td>29</td>\n",
       "      <td>2.112483</td>\n",
       "      <td>3.397658</td>\n",
       "      <td>0.671712</td>\n",
       "      <td>29.894016</td>\n",
       "      <td>00:16</td>\n",
       "    </tr>\n",
       "  </tbody>\n",
       "</table>"
      ],
      "text/plain": [
       "<IPython.core.display.HTML object>"
      ]
     },
     "metadata": {},
     "output_type": "display_data"
    }
   ],
   "source": [
    "lr = 5e-3\n",
    "learn_lm.fit_one_cycle(2*n_epochs, slice(lr/(2.6**4),lr), wd=wd, moms=moms, div=10, cbs=SaveModelCallback())"
   ]
  },
  {
   "cell_type": "code",
   "execution_count": 16,
   "metadata": {},
   "outputs": [],
   "source": [
    "# 29\t2.112483\t3.397658\t0.671712\t29.894016\t00:16"
   ]
  },
  {
   "cell_type": "code",
   "execution_count": 18,
   "metadata": {},
   "outputs": [],
   "source": [
    "# learn_lm.save(f'{lang}fine_tuned_{tok}_{data_format}_duplicate')\n",
    "# learn_lm.save_encoder(f'{lang}fine_tuned_enc_{tok}_{data_format}_duplicate')"
   ]
  }
 ],
 "metadata": {
  "kernelspec": {
   "display_name": "Python 3",
   "language": "python",
   "name": "python3"
  },
  "language_info": {
   "codemirror_mode": {
    "name": "ipython",
    "version": 3
   },
   "file_extension": ".py",
   "mimetype": "text/x-python",
   "name": "python",
   "nbconvert_exporter": "python",
   "pygments_lexer": "ipython3",
   "version": "3.7.3"
  }
 },
 "nbformat": 4,
 "nbformat_minor": 2
}
