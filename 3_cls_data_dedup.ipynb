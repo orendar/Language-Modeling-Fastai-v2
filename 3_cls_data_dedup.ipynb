{
 "cells": [
  {
   "cell_type": "code",
   "execution_count": 1,
   "metadata": {},
   "outputs": [],
   "source": [
    "# !pip uninstall --yes fastcore && pip install --upgrade git+git://github.com/fastai/fastcore.git "
   ]
  },
  {
   "cell_type": "code",
   "execution_count": 2,
   "metadata": {},
   "outputs": [],
   "source": [
    "# !pip uninstall --yes fastai2 && pip install --upgrade git+git://github.com/fastai/fastai2.git"
   ]
  },
  {
   "cell_type": "code",
   "execution_count": 3,
   "metadata": {},
   "outputs": [],
   "source": [
    "%load_ext autoreload\n",
    "%autoreload 2\n",
    "from fastai2.basics import *\n",
    "from fastai2.text.all import *\n",
    "torch.cuda.set_device(0)"
   ]
  },
  {
   "cell_type": "code",
   "execution_count": 4,
   "metadata": {},
   "outputs": [],
   "source": [
    "bs = 40\n",
    "wd = 1e-1\n",
    "moms = (0.95, 0.85, 0.95)#(0.8,0.7,0.8)#\n",
    "seq_len = 72"
   ]
  },
  {
   "cell_type": "code",
   "execution_count": 5,
   "metadata": {},
   "outputs": [],
   "source": [
    "lang = 'he'\n",
    "data_path = Config.config_path/'data'\n",
    "name = f'{lang}wiki'\n",
    "tok = 'SP_data_fwd'\n",
    "text_path = data_path/name\n",
    "path = Path(f'{data_path}/{name}_{tok}')\n",
    "data_format = 'token' #morph or token\n",
    "path.mkdir(exist_ok=True, parents=True)\n",
    "lm_fns = [f'{lang}_wt_{tok}', f'{lang}_wt_vocab_{tok}']"
   ]
  },
  {
   "cell_type": "code",
   "execution_count": 6,
   "metadata": {},
   "outputs": [],
   "source": [
    "class LabelSmoothingCrossEntropyFlat(BaseLoss):\n",
    "    y_int = True\n",
    "    def __init__(self, *args, axis=-1, **kwargs): \n",
    "        super().__init__(LabelSmoothingCrossEntropy, *args, axis=axis, **kwargs)\n",
    "    def decodes(self, x):    return x.argmax(dim=self.axis)\n",
    "    def activation(self, x): return F.softmax(x, dim=self.axis)"
   ]
  },
  {
   "cell_type": "code",
   "execution_count": 7,
   "metadata": {},
   "outputs": [
    {
     "data": {
      "text/plain": [
       "7984"
      ]
     },
     "execution_count": 7,
     "metadata": {},
     "output_type": "execute_result"
    }
   ],
   "source": [
    "counter = pickle.load(open(str(path/'counter.pkl'), 'rb'))\n",
    "vocab = make_vocab(counter)\n",
    "len(vocab)"
   ]
  },
  {
   "cell_type": "code",
   "execution_count": 8,
   "metadata": {},
   "outputs": [
    {
     "data": {
      "text/plain": [
       "(7488, 1131)"
      ]
     },
     "execution_count": 8,
     "metadata": {},
     "output_type": "execute_result"
    }
   ],
   "source": [
    "train_df = pd.read_csv(f'../{data_format}_train.tsv', sep='\\t', header=None, names=['comment', 'label'])\n",
    "train_df['is_valid'] = False\n",
    "test_df = pd.read_csv(f'../{data_format}_test.tsv', sep='\\t', header=None, names=['comment', 'label'])\n",
    "test_df['is_valid'] = True\n",
    "df = pd.concat([train_df,test_df], sort=False).rename(columns={'comment': 'text'})\n",
    "df = df.drop_duplicates('text')\n",
    "train_df = df[df.is_valid == False]\n",
    "test_df = df[df.is_valid == True]\n",
    "len(train_df), len(test_df)"
   ]
  },
  {
   "cell_type": "code",
   "execution_count": 9,
   "metadata": {},
   "outputs": [],
   "source": [
    "# splits = ColSplitter()(df)\n",
    "# x_tfms = [attrgetter('text'),\n",
    "#         Tokenizer.from_folder(path, SentencePieceTokenizer, output_dir=path, sp_model='tmp/spm.model'),\n",
    "#         Numericalize(vocab)]\n",
    "# dsrc = Datasets(df, tfms=[x_tfms, [attrgetter('label'), Categorize()]], splits=splits, dl_type=SortedDL)\n",
    "# cls_data = dsrc.dataloaders(bs=bs, before_batch=pad_input_chunk, seq_len=seq_len,\n",
    "#                            cache=2048, num_workers=8, pin_memory=True)"
   ]
  },
  {
   "cell_type": "code",
   "execution_count": 10,
   "metadata": {},
   "outputs": [],
   "source": [
    "splits = RandomSplitter(0.1, seed=42)(train_df)\n",
    "x_tfms = [attrgetter('text'),\n",
    "        Tokenizer.from_folder(path, SentencePieceTokenizer, output_dir=path, sp_model='tmp/spm.model'),\n",
    "        Numericalize(vocab)]\n",
    "dsrc = Datasets(train_df, tfms=[x_tfms, [attrgetter('label'), Categorize()]], splits=splits, dl_type=SortedDL)\n",
    "cls_data = dsrc.dataloaders(bs=bs, before_batch=pad_input_chunk, seq_len=seq_len,\n",
    "                           cache=2048, num_workers=8, pin_memory=True)"
   ]
  },
  {
   "cell_type": "code",
   "execution_count": 11,
   "metadata": {},
   "outputs": [],
   "source": [
    "drop = 0.5\n",
    "pretrained = False\n",
    "loss_func = LabelSmoothingCrossEntropyFlat()#CrossEntropyLossFlat()#\n",
    "learn_c = text_classifier_learner(cls_data, AWD_QRNN, \n",
    "                                  metrics=[accuracy, F1Score(average='macro'), MatthewsCorrCoefMulti(None,  None)],\n",
    "                                  path=path,\n",
    "                                  loss_func=loss_func,\n",
    "                                  drop_mult=drop, pretrained=pretrained, wd=wd)\n",
    "learn_c = learn_c.load_encoder(f'{lang}fine_tuned_enc_{tok}_{data_format}')"
   ]
  },
  {
   "cell_type": "code",
   "execution_count": 12,
   "metadata": {},
   "outputs": [
    {
     "data": {
      "text/html": [],
      "text/plain": [
       "<IPython.core.display.HTML object>"
      ]
     },
     "metadata": {},
     "output_type": "display_data"
    },
    {
     "data": {
      "text/plain": [
       "SuggestedLRs(lr_min=0.025118863582611083, lr_steep=0.10000000149011612)"
      ]
     },
     "execution_count": 12,
     "metadata": {},
     "output_type": "execute_result"
    },
    {
     "data": {
      "image/png": "[encoded data removed]",
      "text/plain": [
       "<Figure size 432x288 with 1 Axes>"
      ]
     },
     "metadata": {
      "needs_background": "light"
     },
     "output_type": "display_data"
    }
   ],
   "source": [
    "learn_c.lr_find()"
   ]
  },
  {
   "cell_type": "code",
   "execution_count": 13,
   "metadata": {},
   "outputs": [],
   "source": [
    "lr = 3e-2\n",
    "# lr *= bs/48  # Scale learning rate by batch size\n",
    "n_epochs = 10\n",
    "div = 10\n",
    "cb = SaveModelCallback()"
   ]
  },
  {
   "cell_type": "code",
   "execution_count": 14,
   "metadata": {
    "scrolled": false
   },
   "outputs": [
    {
     "data": {
      "text/html": [
       "<table border=\"1\" class=\"dataframe\">\n",
       "  <thead>\n",
       "    <tr style=\"text-align: left;\">\n",
       "      <th>epoch</th>\n",
       "      <th>train_loss</th>\n",
       "      <th>valid_loss</th>\n",
       "      <th>accuracy</th>\n",
       "      <th>f1_score</th>\n",
       "      <th>matthews_corrcoef</th>\n",
       "      <th>time</th>\n",
       "    </tr>\n",
       "  </thead>\n",
       "  <tbody>\n",
       "    <tr>\n",
       "      <td>0</td>\n",
       "      <td>0.774545</td>\n",
       "      <td>0.594288</td>\n",
       "      <td>0.831551</td>\n",
       "      <td>0.629767</td>\n",
       "      <td>0.596566</td>\n",
       "      <td>00:05</td>\n",
       "    </tr>\n",
       "    <tr>\n",
       "      <td>1</td>\n",
       "      <td>0.756287</td>\n",
       "      <td>0.578811</td>\n",
       "      <td>0.843583</td>\n",
       "      <td>0.636582</td>\n",
       "      <td>0.637181</td>\n",
       "      <td>00:05</td>\n",
       "    </tr>\n",
       "    <tr>\n",
       "      <td>2</td>\n",
       "      <td>0.773967</td>\n",
       "      <td>0.577433</td>\n",
       "      <td>0.843583</td>\n",
       "      <td>0.680301</td>\n",
       "      <td>0.652625</td>\n",
       "      <td>00:05</td>\n",
       "    </tr>\n",
       "    <tr>\n",
       "      <td>3</td>\n",
       "      <td>0.772209</td>\n",
       "      <td>0.634691</td>\n",
       "      <td>0.788770</td>\n",
       "      <td>0.536450</td>\n",
       "      <td>0.500115</td>\n",
       "      <td>00:04</td>\n",
       "    </tr>\n",
       "    <tr>\n",
       "      <td>4</td>\n",
       "      <td>0.772016</td>\n",
       "      <td>0.565026</td>\n",
       "      <td>0.852941</td>\n",
       "      <td>0.649353</td>\n",
       "      <td>0.669365</td>\n",
       "      <td>00:05</td>\n",
       "    </tr>\n",
       "    <tr>\n",
       "      <td>5</td>\n",
       "      <td>0.758186</td>\n",
       "      <td>0.573457</td>\n",
       "      <td>0.842246</td>\n",
       "      <td>0.685540</td>\n",
       "      <td>0.625810</td>\n",
       "      <td>00:06</td>\n",
       "    </tr>\n",
       "    <tr>\n",
       "      <td>6</td>\n",
       "      <td>0.734175</td>\n",
       "      <td>0.552872</td>\n",
       "      <td>0.847594</td>\n",
       "      <td>0.709948</td>\n",
       "      <td>0.651785</td>\n",
       "      <td>00:05</td>\n",
       "    </tr>\n",
       "    <tr>\n",
       "      <td>7</td>\n",
       "      <td>0.738553</td>\n",
       "      <td>0.568189</td>\n",
       "      <td>0.842246</td>\n",
       "      <td>0.639633</td>\n",
       "      <td>0.654232</td>\n",
       "      <td>00:05</td>\n",
       "    </tr>\n",
       "    <tr>\n",
       "      <td>8</td>\n",
       "      <td>0.725000</td>\n",
       "      <td>0.553736</td>\n",
       "      <td>0.850267</td>\n",
       "      <td>0.669766</td>\n",
       "      <td>0.646226</td>\n",
       "      <td>00:05</td>\n",
       "    </tr>\n",
       "    <tr>\n",
       "      <td>9</td>\n",
       "      <td>0.721040</td>\n",
       "      <td>0.555163</td>\n",
       "      <td>0.854278</td>\n",
       "      <td>0.674984</td>\n",
       "      <td>0.657809</td>\n",
       "      <td>00:05</td>\n",
       "    </tr>\n",
       "  </tbody>\n",
       "</table>"
      ],
      "text/plain": [
       "<IPython.core.display.HTML object>"
      ]
     },
     "metadata": {},
     "output_type": "display_data"
    },
    {
     "data": {
      "text/html": [
       "<table border=\"1\" class=\"dataframe\">\n",
       "  <thead>\n",
       "    <tr style=\"text-align: left;\">\n",
       "      <th>epoch</th>\n",
       "      <th>train_loss</th>\n",
       "      <th>valid_loss</th>\n",
       "      <th>accuracy</th>\n",
       "      <th>f1_score</th>\n",
       "      <th>matthews_corrcoef</th>\n",
       "      <th>time</th>\n",
       "    </tr>\n",
       "  </thead>\n",
       "  <tbody>\n",
       "    <tr>\n",
       "      <td>0</td>\n",
       "      <td>0.691590</td>\n",
       "      <td>0.537673</td>\n",
       "      <td>0.858289</td>\n",
       "      <td>0.688883</td>\n",
       "      <td>0.680261</td>\n",
       "      <td>00:13</td>\n",
       "    </tr>\n",
       "    <tr>\n",
       "      <td>1</td>\n",
       "      <td>0.623427</td>\n",
       "      <td>0.541088</td>\n",
       "      <td>0.860963</td>\n",
       "      <td>0.732434</td>\n",
       "      <td>0.679521</td>\n",
       "      <td>00:12</td>\n",
       "    </tr>\n",
       "    <tr>\n",
       "      <td>2</td>\n",
       "      <td>0.582784</td>\n",
       "      <td>0.551323</td>\n",
       "      <td>0.868984</td>\n",
       "      <td>0.747301</td>\n",
       "      <td>0.709049</td>\n",
       "      <td>00:13</td>\n",
       "    </tr>\n",
       "    <tr>\n",
       "      <td>3</td>\n",
       "      <td>0.560059</td>\n",
       "      <td>0.529857</td>\n",
       "      <td>0.868984</td>\n",
       "      <td>0.777059</td>\n",
       "      <td>0.715340</td>\n",
       "      <td>00:12</td>\n",
       "    </tr>\n",
       "    <tr>\n",
       "      <td>4</td>\n",
       "      <td>0.555078</td>\n",
       "      <td>0.534121</td>\n",
       "      <td>0.868984</td>\n",
       "      <td>0.711428</td>\n",
       "      <td>0.698575</td>\n",
       "      <td>00:14</td>\n",
       "    </tr>\n",
       "    <tr>\n",
       "      <td>5</td>\n",
       "      <td>0.519812</td>\n",
       "      <td>0.517178</td>\n",
       "      <td>0.862299</td>\n",
       "      <td>0.756829</td>\n",
       "      <td>0.681961</td>\n",
       "      <td>00:13</td>\n",
       "    </tr>\n",
       "    <tr>\n",
       "      <td>6</td>\n",
       "      <td>0.499062</td>\n",
       "      <td>0.547439</td>\n",
       "      <td>0.866310</td>\n",
       "      <td>0.701500</td>\n",
       "      <td>0.687788</td>\n",
       "      <td>00:12</td>\n",
       "    </tr>\n",
       "    <tr>\n",
       "      <td>7</td>\n",
       "      <td>0.485051</td>\n",
       "      <td>0.527052</td>\n",
       "      <td>0.877005</td>\n",
       "      <td>0.786955</td>\n",
       "      <td>0.721741</td>\n",
       "      <td>00:13</td>\n",
       "    </tr>\n",
       "    <tr>\n",
       "      <td>8</td>\n",
       "      <td>0.462428</td>\n",
       "      <td>0.540301</td>\n",
       "      <td>0.868984</td>\n",
       "      <td>0.753049</td>\n",
       "      <td>0.693810</td>\n",
       "      <td>00:12</td>\n",
       "    </tr>\n",
       "    <tr>\n",
       "      <td>9</td>\n",
       "      <td>0.451039</td>\n",
       "      <td>0.548413</td>\n",
       "      <td>0.875668</td>\n",
       "      <td>0.724504</td>\n",
       "      <td>0.719615</td>\n",
       "      <td>00:12</td>\n",
       "    </tr>\n",
       "    <tr>\n",
       "      <td>10</td>\n",
       "      <td>0.453101</td>\n",
       "      <td>0.557461</td>\n",
       "      <td>0.856952</td>\n",
       "      <td>0.723636</td>\n",
       "      <td>0.663201</td>\n",
       "      <td>00:14</td>\n",
       "    </tr>\n",
       "    <tr>\n",
       "      <td>11</td>\n",
       "      <td>0.420536</td>\n",
       "      <td>0.559264</td>\n",
       "      <td>0.860963</td>\n",
       "      <td>0.706555</td>\n",
       "      <td>0.675208</td>\n",
       "      <td>00:12</td>\n",
       "    </tr>\n",
       "    <tr>\n",
       "      <td>12</td>\n",
       "      <td>0.404180</td>\n",
       "      <td>0.556773</td>\n",
       "      <td>0.860963</td>\n",
       "      <td>0.721411</td>\n",
       "      <td>0.681011</td>\n",
       "      <td>00:12</td>\n",
       "    </tr>\n",
       "    <tr>\n",
       "      <td>13</td>\n",
       "      <td>0.384941</td>\n",
       "      <td>0.551255</td>\n",
       "      <td>0.862299</td>\n",
       "      <td>0.678798</td>\n",
       "      <td>0.684933</td>\n",
       "      <td>00:12</td>\n",
       "    </tr>\n",
       "    <tr>\n",
       "      <td>14</td>\n",
       "      <td>0.387948</td>\n",
       "      <td>0.572992</td>\n",
       "      <td>0.859626</td>\n",
       "      <td>0.693201</td>\n",
       "      <td>0.676832</td>\n",
       "      <td>00:12</td>\n",
       "    </tr>\n",
       "    <tr>\n",
       "      <td>15</td>\n",
       "      <td>0.373872</td>\n",
       "      <td>0.551048</td>\n",
       "      <td>0.872995</td>\n",
       "      <td>0.729994</td>\n",
       "      <td>0.707174</td>\n",
       "      <td>00:11</td>\n",
       "    </tr>\n",
       "    <tr>\n",
       "      <td>16</td>\n",
       "      <td>0.378484</td>\n",
       "      <td>0.567182</td>\n",
       "      <td>0.866310</td>\n",
       "      <td>0.730579</td>\n",
       "      <td>0.692973</td>\n",
       "      <td>00:12</td>\n",
       "    </tr>\n",
       "    <tr>\n",
       "      <td>17</td>\n",
       "      <td>0.362294</td>\n",
       "      <td>0.549012</td>\n",
       "      <td>0.874332</td>\n",
       "      <td>0.742020</td>\n",
       "      <td>0.708514</td>\n",
       "      <td>00:11</td>\n",
       "    </tr>\n",
       "    <tr>\n",
       "      <td>18</td>\n",
       "      <td>0.369519</td>\n",
       "      <td>0.550882</td>\n",
       "      <td>0.875668</td>\n",
       "      <td>0.742712</td>\n",
       "      <td>0.710936</td>\n",
       "      <td>00:14</td>\n",
       "    </tr>\n",
       "    <tr>\n",
       "      <td>19</td>\n",
       "      <td>0.364333</td>\n",
       "      <td>0.545624</td>\n",
       "      <td>0.868984</td>\n",
       "      <td>0.734194</td>\n",
       "      <td>0.703202</td>\n",
       "      <td>00:14</td>\n",
       "    </tr>\n",
       "  </tbody>\n",
       "</table>"
      ],
      "text/plain": [
       "<IPython.core.display.HTML object>"
      ]
     },
     "metadata": {},
     "output_type": "display_data"
    }
   ],
   "source": [
    "learn_c.fit_one_cycle(n_epochs, lr, wd=wd, moms=moms, div=div, cbs=cb)\n",
    "learn_c.unfreeze()\n",
    "lr /= 5\n",
    "learn_c.fit_one_cycle(2*n_epochs, slice(lr/(2.6**4),lr), wd=wd, moms=moms, div=div, cbs=cb)"
   ]
  },
  {
   "cell_type": "code",
   "execution_count": 15,
   "metadata": {
    "scrolled": false
   },
   "outputs": [
    {
     "data": {
      "text/html": [],
      "text/plain": [
       "<IPython.core.display.HTML object>"
      ]
     },
     "metadata": {},
     "output_type": "display_data"
    },
    {
     "data": {
      "text/plain": [
       "(#4) [0.5145070552825928,0.8912466764450073,0.6328188053459017,0.6706091796543721]"
      ]
     },
     "execution_count": 15,
     "metadata": {},
     "output_type": "execute_result"
    }
   ],
   "source": [
    "test_splits = RandomSplitter(0.0)(test_df)\n",
    "x_tfms = [attrgetter('text'),\n",
    "        Tokenizer.from_folder(path, SentencePieceTokenizer, output_dir=path, sp_model='tmp/spm.model'),\n",
    "        Numericalize(vocab)]\n",
    "test_dsrc = Datasets(test_df, tfms=[x_tfms, [attrgetter('label'), Categorize()]], splits=test_splits, dl_type=SortedDL)\n",
    "test_data = test_dsrc.dataloaders(bs=bs, before_batch=pad_input_chunk, seq_len=seq_len,\n",
    "                                  cache=2048, num_workers=8, pin_memory=True)\n",
    "learn_c.validate(dl=test_data[0])"
   ]
  },
  {
   "cell_type": "code",
   "execution_count": 16,
   "metadata": {},
   "outputs": [],
   "source": [
    "#[0.5145070552825928,0.8912466764450073,0.6328188053459017,0.6706091796543721]\n",
    "# learn_c.save(f'{lang}clas_{tok}_{data_format}_fwd')"
   ]
  },
  {
   "cell_type": "code",
   "execution_count": 17,
   "metadata": {},
   "outputs": [
    {
     "data": {
      "text/html": [],
      "text/plain": [
       "<IPython.core.display.HTML object>"
      ]
     },
     "metadata": {},
     "output_type": "display_data"
    },
    {
     "data": {
      "text/html": [
       "<table border=\"1\" class=\"dataframe\">\n",
       "  <thead>\n",
       "    <tr style=\"text-align: right;\">\n",
       "      <th></th>\n",
       "      <th>input</th>\n",
       "      <th>target</th>\n",
       "      <th>predicted</th>\n",
       "      <th>probability</th>\n",
       "      <th>loss</th>\n",
       "    </tr>\n",
       "  </thead>\n",
       "  <tbody>\n",
       "    <tr>\n",
       "      <th>0</th>\n",
       "      <td>▁xxbos ▁בהצלחה ▁( ▁וה קיים ▁ב אבד ון ▁)</td>\n",
       "      <td>1</td>\n",
       "      <td>0</td>\n",
       "      <td>0.9502453207969666</td>\n",
       "      <td>3.6121597290039062</td>\n",
       "    </tr>\n",
       "    <tr>\n",
       "      <th>1</th>\n",
       "      <td>▁xxbos ▁רובי ▁ריבלין ▁הוא ▁נשיא ▁של ▁מדינת ▁כל ▁אויבי ה ▁.</td>\n",
       "      <td>1</td>\n",
       "      <td>0</td>\n",
       "      <td>0.9172863960266113</td>\n",
       "      <td>2.974113702774048</td>\n",
       "    </tr>\n",
       "    <tr>\n",
       "      <th>2</th>\n",
       "      <td>▁xxbos ▁קר יק טור ה ▁פר י ▁ע טו ▁של ▁בן ▁המשפחה ▁, ▁ה עיתונאי ▁וה קר יק טור יסט ▁רע נן ▁ל ורי א</td>\n",
       "      <td>1</td>\n",
       "      <td>0</td>\n",
       "      <td>0.6412240862846375</td>\n",
       "      <td>2.8566179275512695</td>\n",
       "    </tr>\n",
       "    <tr>\n",
       "      <th>3</th>\n",
       "      <td>▁xxbos ▁יום ▁עצוב ▁ למוסד ▁הנשיאות ▁ולמדינה ▁.</td>\n",
       "      <td>1</td>\n",
       "      <td>0</td>\n",
       "      <td>0.9208645224571228</td>\n",
       "      <td>2.781691312789917</td>\n",
       "    </tr>\n",
       "    <tr>\n",
       "      <th>4</th>\n",
       "      <td>▁xxbos ▁ידעתי ▁ש כש ריבלין ▁יהיה ▁נשיא ▁הוא ▁ ית קלקל ▁לנו ▁. ▁חבל ▁!</td>\n",
       "      <td>1</td>\n",
       "      <td>0</td>\n",
       "      <td>0.9113596677780151</td>\n",
       "      <td>2.7490570545196533</td>\n",
       "    </tr>\n",
       "    <tr>\n",
       "      <th>5</th>\n",
       "      <td>▁xxbos ▁נשיא ▁מדינת ▁ישראל xxunk</td>\n",
       "      <td>1</td>\n",
       "      <td>0</td>\n",
       "      <td>0.8963759541511536</td>\n",
       "      <td>2.736593008041382</td>\n",
       "    </tr>\n",
       "    <tr>\n",
       "      <th>6</th>\n",
       "      <td>▁xxbos ▁מאוכזב ▁ממך ▁אדוני ▁הנשיא ▁!</td>\n",
       "      <td>1</td>\n",
       "      <td>0</td>\n",
       "      <td>0.8853574991226196</td>\n",
       "      <td>2.473942279815674</td>\n",
       "    </tr>\n",
       "    <tr>\n",
       "      <th>7</th>\n",
       "      <td>▁xxbos ▁אדוני ▁הנשיא ▁הנבחר ▁אולי ▁ת תייחס ▁סוף ▁סוף</td>\n",
       "      <td>1</td>\n",
       "      <td>0</td>\n",
       "      <td>0.879170298576355</td>\n",
       "      <td>2.4680845737457275</td>\n",
       "    </tr>\n",
       "    <tr>\n",
       "      <th>8</th>\n",
       "      <td>▁xxbos ▁רובי ▁היקר xxunk ▁הקריא ה ▁שצריכ ה ▁ל צאת ▁היא ▁דבר ▁אחד ▁קטן ▁ל יתן ▁ פסק י ▁ דין ▁מוות ▁למחבלים xxunk ▁שיהי ו ▁שה יד ים ▁ו הרבה ▁שה יד ים ▁אבל ▁שיהי ו ▁מת ים ▁את ▁גופ ת יהם ▁יש ▁ל עט וף ▁ב עור ▁של ▁חז יר ▁ואת ▁ע פר ▁גופ ם ▁יש ▁ל ז רוק ▁ל ים xxunk ▁ככה ▁ נהג ה ▁או מה ▁אח ת ▁ש שלט ה ▁בארץ ▁ולא ומה ▁הזו ▁ קרא ו ▁ אנגלי ה ▁אז ▁אם ▁להם ▁היה ▁מותר ▁מ דוע ▁לנו ▁אסור ▁? ▁... xxunk ▁א שמח ▁על ▁ תשובה ▁ממך ▁xxrep ▁3 ▁!</td>\n",
       "      <td>0</td>\n",
       "      <td>1</td>\n",
       "      <td>0.825160026550293</td>\n",
       "      <td>2.370262861251831</td>\n",
       "    </tr>\n",
       "    <tr>\n",
       "      <th>9</th>\n",
       "      <td>▁xxbos ▁. ▁דוד ו ▁ אין ▁כמוך ▁בעולם</td>\n",
       "      <td>2</td>\n",
       "      <td>0</td>\n",
       "      <td>0.8862964510917664</td>\n",
       "      <td>2.360097885131836</td>\n",
       "    </tr>\n",
       "  </tbody>\n",
       "</table>"
      ],
      "text/plain": [
       "<IPython.core.display.HTML object>"
      ]
     },
     "metadata": {},
     "output_type": "display_data"
    }
   ],
   "source": [
    "from fastai2.interpret import *\n",
    "interp = ClassificationInterpretation.from_learner(learn_c)\n",
    "interp.plot_top_losses(10)"
   ]
  },
  {
   "cell_type": "code",
   "execution_count": 18,
   "metadata": {},
   "outputs": [
    {
     "data": {
      "text/html": [
       "<div>\n",
       "<style scoped>\n",
       "    .dataframe tbody tr th:only-of-type {\n",
       "        vertical-align: middle;\n",
       "    }\n",
       "\n",
       "    .dataframe tbody tr th {\n",
       "        vertical-align: top;\n",
       "    }\n",
       "\n",
       "    .dataframe thead th {\n",
       "        text-align: right;\n",
       "    }\n",
       "</style>\n",
       "<table border=\"1\" class=\"dataframe\">\n",
       "  <thead>\n",
       "    <tr style=\"text-align: right;\">\n",
       "      <th></th>\n",
       "      <th>text</th>\n",
       "      <th>label</th>\n",
       "      <th>is_valid</th>\n",
       "    </tr>\n",
       "  </thead>\n",
       "  <tbody>\n",
       "    <tr>\n",
       "      <th>1648</th>\n",
       "      <td>בהצלחה ( והקיים באבדון )</td>\n",
       "      <td>1</td>\n",
       "      <td>False</td>\n",
       "    </tr>\n",
       "    <tr>\n",
       "      <th>3409</th>\n",
       "      <td>רובי ריבלין הוא נשיא של מדינת כל אויביה .</td>\n",
       "      <td>1</td>\n",
       "      <td>False</td>\n",
       "    </tr>\n",
       "    <tr>\n",
       "      <th>388</th>\n",
       "      <td>קריקטורה פרי עטו של בן המשפחה , העיתונאי והקריקטוריסט רענן לוריא</td>\n",
       "      <td>1</td>\n",
       "      <td>False</td>\n",
       "    </tr>\n",
       "    <tr>\n",
       "      <th>103</th>\n",
       "      <td>יום עצוב למוסד הנשיאות ולמדינה .</td>\n",
       "      <td>1</td>\n",
       "      <td>False</td>\n",
       "    </tr>\n",
       "    <tr>\n",
       "      <th>3018</th>\n",
       "      <td>ידעתי שכשריבלין יהיה נשיא הוא יתקלקל לנו . חבל !</td>\n",
       "      <td>1</td>\n",
       "      <td>False</td>\n",
       "    </tr>\n",
       "    <tr>\n",
       "      <th>174</th>\n",
       "      <td>נשיא מדינת ישראל תתבייש</td>\n",
       "      <td>1</td>\n",
       "      <td>False</td>\n",
       "    </tr>\n",
       "    <tr>\n",
       "      <th>4306</th>\n",
       "      <td>מאוכזב ממך אדוני הנשיא !</td>\n",
       "      <td>1</td>\n",
       "      <td>False</td>\n",
       "    </tr>\n",
       "    <tr>\n",
       "      <th>7199</th>\n",
       "      <td>אדוני הנשיא הנבחר אולי תתייחס סוף סוף</td>\n",
       "      <td>1</td>\n",
       "      <td>False</td>\n",
       "    </tr>\n",
       "    <tr>\n",
       "      <th>7017</th>\n",
       "      <td>רובי היקר .... הקריאה שצריכה לצאת היא דבר אחד קטן ליתן פסקי דין מוות למחבלים ..... שיהיו שהידים והרבה שהידים אבל שיהיו מתים את גופתיהם יש לעטוף בעור של חזיר ואת עפר גופם יש לזרוק לים ..... ככה נהגה אומה אחת ששלטה בארץ ולאומה הזו קראו אנגליה אז אם להם היה מותר מדוע לנו אסור ?....... אשמח על תשובה ממך !!!</td>\n",
       "      <td>0</td>\n",
       "      <td>False</td>\n",
       "    </tr>\n",
       "    <tr>\n",
       "      <th>6400</th>\n",
       "      <td>. דודו אין כמוך בעולם</td>\n",
       "      <td>2</td>\n",
       "      <td>False</td>\n",
       "    </tr>\n",
       "  </tbody>\n",
       "</table>\n",
       "</div>"
      ],
      "text/plain": [
       "                                                                                                                                                                                                                                                                                                                  text  \\\n",
       "1648                                                                                                                                                                                                                                                                                          בהצלחה ( והקיים באבדון )   \n",
       "3409                                                                                                                                                                                                                                                                         רובי ריבלין הוא נשיא של מדינת כל אויביה .   \n",
       "388                                                                                                                                                                                                                                                  קריקטורה פרי עטו של בן המשפחה , העיתונאי והקריקטוריסט רענן לוריא    \n",
       "103                                                                                                                                                                                                                                                                                   יום עצוב למוסד הנשיאות ולמדינה .   \n",
       "3018                                                                                                                                                                                                                                                                  ידעתי שכשריבלין יהיה נשיא הוא יתקלקל לנו . חבל !   \n",
       "174                                                                                                                                                                                                                                                                                            נשיא מדינת ישראל תתבייש   \n",
       "4306                                                                                                                                                                                                                                                                                          מאוכזב ממך אדוני הנשיא !   \n",
       "7199                                                                                                                                                                                                                                                                             אדוני הנשיא הנבחר אולי תתייחס סוף סוף   \n",
       "7017  רובי היקר .... הקריאה שצריכה לצאת היא דבר אחד קטן ליתן פסקי דין מוות למחבלים ..... שיהיו שהידים והרבה שהידים אבל שיהיו מתים את גופתיהם יש לעטוף בעור של חזיר ואת עפר גופם יש לזרוק לים ..... ככה נהגה אומה אחת ששלטה בארץ ולאומה הזו קראו אנגליה אז אם להם היה מותר מדוע לנו אסור ?....... אשמח על תשובה ממך !!!   \n",
       "6400                                                                                                                                                                                                                                                                                             . דודו אין כמוך בעולם   \n",
       "\n",
       "      label  is_valid  \n",
       "1648      1     False  \n",
       "3409      1     False  \n",
       "388       1     False  \n",
       "103       1     False  \n",
       "3018      1     False  \n",
       "174       1     False  \n",
       "4306      1     False  \n",
       "7199      1     False  \n",
       "7017      0     False  \n",
       "6400      2     False  "
      ]
     },
     "execution_count": 18,
     "metadata": {},
     "output_type": "execute_result"
    }
   ],
   "source": [
    "train_df.iloc[splits[1]].iloc[np.array(interp.dl.get_idxs())[interp.top_losses(k=10)[1]]]"
   ]
  },
  {
   "cell_type": "code",
   "execution_count": 19,
   "metadata": {},
   "outputs": [],
   "source": [
    "#test.loc[np.array(interp.dl.get_idxs())[interp.top_losses(k=10)[1]]]"
   ]
  },
  {
   "cell_type": "code",
   "execution_count": 20,
   "metadata": {},
   "outputs": [
    {
     "data": {
      "image/png": "[encoded data removed]",
      "text/plain": [
       "<Figure size 432x288 with 1 Axes>"
      ]
     },
     "metadata": {
      "needs_background": "light"
     },
     "output_type": "display_data"
    }
   ],
   "source": [
    "interp.plot_confusion_matrix()"
   ]
  },
  {
   "cell_type": "code",
   "execution_count": 21,
   "metadata": {},
   "outputs": [],
   "source": [
    "# 0 - positive\n",
    "# 1 - negative\n",
    "# 2 - neutral"
   ]
  }
 ],
 "metadata": {
  "kernelspec": {
   "display_name": "Python 3",
   "language": "python",
   "name": "python3"
  },
  "language_info": {
   "codemirror_mode": {
    "name": "ipython",
    "version": 3
   },
   "file_extension": ".py",
   "mimetype": "text/x-python",
   "name": "python",
   "nbconvert_exporter": "python",
   "pygments_lexer": "ipython3",
   "version": "3.7.3"
  }
 },
 "nbformat": 4,
 "nbformat_minor": 2
}
