{
 "cells": [
  {
   "cell_type": "code",
   "execution_count": 1,
   "metadata": {},
   "outputs": [],
   "source": [
    "from fastai import *\n",
    "from fastai.text import *\n",
    "from fastai.callbacks import *\n",
    "\n",
    "import matplotlib.pyplot as plt\n",
    "\n",
    "%reload_ext autoreload\n",
    "%autoreload 2\n",
    "%matplotlib inline"
   ]
  },
  {
   "cell_type": "code",
   "execution_count": 2,
   "metadata": {},
   "outputs": [],
   "source": [
    "data_path = Config.data_path()"
   ]
  },
  {
   "cell_type": "code",
   "execution_count": 3,
   "metadata": {},
   "outputs": [],
   "source": [
    "lang = 'he'\n",
    "name = f'{lang}wiki'\n",
    "path = data_path/name\n",
    "path.mkdir(exist_ok=True, parents=True)"
   ]
  },
  {
   "cell_type": "code",
   "execution_count": 4,
   "metadata": {},
   "outputs": [],
   "source": [
    "from nlputils2 import *"
   ]
  },
  {
   "cell_type": "code",
   "execution_count": 6,
   "metadata": {},
   "outputs": [
    {
     "name": "stdout",
     "output_type": "stream",
     "text": [
      "downloading...\n"
     ]
    },
    {
     "data": {
      "text/html": [],
      "text/plain": [
       "<IPython.core.display.HTML object>"
      ]
     },
     "metadata": {},
     "output_type": "display_data"
    },
    {
     "name": "stdout",
     "output_type": "stream",
     "text": [
      "CPU times: user 13 s, sys: 6.29 s, total: 19.3 s\n",
      "Wall time: 5min 11s\n"
     ]
    }
   ],
   "source": [
    "%%time\n",
    "get_wiki_download(path,lang)"
   ]
  },
  {
   "cell_type": "code",
   "execution_count": 7,
   "metadata": {},
   "outputs": [
    {
     "name": "stdout",
     "output_type": "stream",
     "text": [
      "unzipping...\n",
      "CPU times: user 1min 39s, sys: 1.79 s, total: 1min 40s\n",
      "Wall time: 1min 41s\n"
     ]
    }
   ],
   "source": [
    "%%time\n",
    "get_wiki_unzip(path,lang)"
   ]
  },
  {
   "cell_type": "code",
   "execution_count": 8,
   "metadata": {},
   "outputs": [
    {
     "name": "stdout",
     "output_type": "stream",
     "text": [
      "extracting...\n",
      "CPU times: user 17.9 ms, sys: 20.6 ms, total: 38.5 ms\n",
      "Wall time: 1min 49s\n"
     ]
    }
   ],
   "source": [
    "%%time\n",
    "get_wiki_extract(path,lang)"
   ]
  },
  {
   "cell_type": "code",
   "execution_count": 9,
   "metadata": {},
   "outputs": [
    {
     "name": "stdout",
     "output_type": "stream",
     "text": [
      "0\n",
      "100000\n",
      "200000\n",
      "300000\n",
      "400000\n",
      "500000\n",
      "600000\n",
      "700000\n",
      "800000\n",
      "900000\n",
      "1000000\n",
      "1100000\n",
      "1200000\n",
      "1300000\n",
      "1400000\n",
      "1500000\n",
      "1600000\n",
      "1700000\n",
      "1800000\n",
      "1900000\n",
      "2000000\n",
      "2100000\n",
      "2200000\n",
      "2300000\n",
      "2400000\n",
      "2500000\n",
      "2600000\n",
      "2700000\n",
      "2800000\n",
      "2900000\n",
      "3000000\n",
      "3100000\n",
      "3200000\n",
      "3300000\n",
      "3400000\n",
      "3500000\n",
      "3600000\n",
      "3700000\n",
      "3800000\n",
      "CPU times: user 8.65 s, sys: 2.36 s, total: 11 s\n",
      "Wall time: 11.1 s\n"
     ]
    },
    {
     "data": {
      "text/plain": [
       "PosixPath('/home/oren/.fastai/data/hewiki/docs')"
      ]
     },
     "execution_count": 9,
     "metadata": {},
     "output_type": "execute_result"
    }
   ],
   "source": [
    "%%time\n",
    "split_wiki2(path, lang)"
   ]
  },
  {
   "cell_type": "code",
   "execution_count": 10,
   "metadata": {},
   "outputs": [
    {
     "data": {
      "text/plain": [
       "[PosixPath('/home/oren/.fastai/data/hewiki/log'),\n",
       " PosixPath('/home/oren/.fastai/data/hewiki/hewiki-latest-pages-articles.xml.bz2'),\n",
       " PosixPath('/home/oren/.fastai/data/hewiki/hewiki'),\n",
       " PosixPath('/home/oren/.fastai/data/hewiki/docs'),\n",
       " PosixPath('/home/oren/.fastai/data/hewiki/wikiextractor'),\n",
       " PosixPath('/home/oren/.fastai/data/hewiki/hewiki-latest-pages-articles.xml')]"
      ]
     },
     "execution_count": 10,
     "metadata": {},
     "output_type": "execute_result"
    }
   ],
   "source": [
    "path.ls()"
   ]
  },
  {
   "cell_type": "code",
   "execution_count": 11,
   "metadata": {},
   "outputs": [
    {
     "name": "stdout",
     "output_type": "stream",
     "text": [
      "<doc id=\"7\" url=\"https://he.wikipedia.org/wiki?curid=7\" title=\"מתמטיקה\">\r\n",
      "מתמטיקה\r\n",
      "\r\n",
      "מָתֵמָטִיקָה היא תחום דעת העוסק במושגים כגון כמות, מבנה, מרחב ושינוי. המתמטיקאים מחפשים דפוסים ותבניות משותפות במספרים, במרחב, במדע ובהפשטות דמיוניות.\r\n"
     ]
    }
   ],
   "source": [
    "!head -n4 {path}/{name}"
   ]
  },
  {
   "cell_type": "code",
   "execution_count": 12,
   "metadata": {},
   "outputs": [
    {
     "name": "stdout",
     "output_type": "stream",
     "text": [
      "CPU times: user 14 s, sys: 3.47 s, total: 17.5 s\n",
      "Wall time: 17.7 s\n"
     ]
    }
   ],
   "source": [
    "%%time\n",
    "folder = \"docs\"\n",
    "clean_files(path,folder)"
   ]
  },
  {
   "cell_type": "code",
   "execution_count": 13,
   "metadata": {},
   "outputs": [
    {
     "data": {
      "text/plain": [
       "[PosixPath('/home/oren/.fastai/data/hewiki/docs/דמיטרו_צ_יגרינסקי.txt'),\n",
       " PosixPath('/home/oren/.fastai/data/hewiki/docs/אבקת_הריאות.txt'),\n",
       " PosixPath('/home/oren/.fastai/data/hewiki/docs/אופיר_העברי.txt'),\n",
       " PosixPath('/home/oren/.fastai/data/hewiki/docs/אלכס_ברטל.txt'),\n",
       " PosixPath('/home/oren/.fastai/data/hewiki/docs/לאופולד_פון_רנקה.txt')]"
      ]
     },
     "execution_count": 13,
     "metadata": {},
     "output_type": "execute_result"
    }
   ],
   "source": [
    "dest = path/'docs'\n",
    "dest.ls()[:5]"
   ]
  },
  {
   "cell_type": "code",
   "execution_count": 14,
   "metadata": {},
   "outputs": [
    {
     "name": "stdout",
     "output_type": "stream",
     "text": [
      "דמיטרו אנטוליוביץ' צ'יגרינסקי (באוקראינית: Дмитро Анатолійович Чигринський; נולד ב-7 בנובמבר 1986) הוא כדורגלן אוקראיני המשחק בעמדת הבלם בקבוצת א.א.ק. אתונה.\r\n",
      "\r\n",
      "צ'יגרינסקי נולד בעיר איזיאסלב (אז ברית המועצות, כיום אוקראינה). בילדותו שיחק בקבוצת הילדים של מועדון הכדורגל קרפטי לבוב ובגיל 14 עבר לקבוצת הנוער של שחטיור דונצק. לקראת סוף עונת , כשהוא בן 17, ערך את הופעת הבכורה שלו בקבוצה הבוגרת של שחטיור. בעונה שלאחר מכן ערך גם את הופעת הבכורה שלו בליגת האלופות במשחק נגד ברצלונה. ב-2005 הושאל למטאלורג זאפוריז'יה לעונה אחת, בה שיחק 18 משחקים (בכל המסגרות) בהם הבקיע שני שערים.\r\n",
      "\r\n"
     ]
    }
   ],
   "source": [
    "!head -n4 {dest.ls()[0]}"
   ]
  },
  {
   "cell_type": "code",
   "execution_count": 15,
   "metadata": {},
   "outputs": [
    {
     "name": "stdout",
     "output_type": "stream",
     "text": [
      "103337 files - 85466565 tokens\n"
     ]
    }
   ],
   "source": [
    "num_files, num_tokens = get_num_tokens(dest)\n",
    "print(f'{num_files} files - {num_tokens} tokens')"
   ]
  }
 ],
 "metadata": {
  "kernelspec": {
   "display_name": "Python 3",
   "language": "python",
   "name": "python3"
  },
  "language_info": {
   "codemirror_mode": {
    "name": "ipython",
    "version": 3
   },
   "file_extension": ".py",
   "mimetype": "text/x-python",
   "name": "python",
   "nbconvert_exporter": "python",
   "pygments_lexer": "ipython3",
   "version": "3.7.6"
  }
 },
 "nbformat": 4,
 "nbformat_minor": 2
}
