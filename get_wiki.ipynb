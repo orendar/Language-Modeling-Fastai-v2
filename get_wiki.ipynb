{
 "cells": [
  {
   "cell_type": "markdown",
   "metadata": {
    "heading_collapsed": true
   },
   "source": [
    "## Initialisation"
   ]
  },
  {
   "cell_type": "code",
   "execution_count": 3,
   "metadata": {
    "hidden": true,
    "nbpresent": {
     "id": "151cd18f-76e3-440f-a8c7-ffa5c6b5da01"
    }
   },
   "outputs": [],
   "source": [
    "from fastai2.basics import *\n",
    "from fastai2.text.all import *\n",
    "\n",
    "%reload_ext autoreload\n",
    "%autoreload 2"
   ]
  },
  {
   "cell_type": "markdown",
   "metadata": {
    "hidden": true,
    "nbpresent": {
     "id": "cf070ab7-babb-4cf0-a315-401f65461dc8"
    }
   },
   "source": [
    "This will create a `{lang}wiki` folder, containing a `{lang}wiki` text file with the wikipedia contents. (For other languages, replace `{lang}` with the appropriate code from the [list of wikipedias](https://meta.wikimedia.org/wiki/List_of_Wikipedias).)"
   ]
  },
  {
   "cell_type": "code",
   "execution_count": 6,
   "metadata": {
    "hidden": true,
    "nbpresent": {
     "id": "701ab344-0430-4f43-bbe2-337a12cae6be"
    }
   },
   "outputs": [],
   "source": [
    "data_path = Config.config_path\n",
    "lang = 'he'\n",
    "name = f'{lang}wiki'\n",
    "path = data_path/name\n",
    "path.mkdir(exist_ok=True, parents=True)"
   ]
  },
  {
   "cell_type": "markdown",
   "metadata": {
    "heading_collapsed": true,
    "hidden": true,
    "nbpresent": {
     "id": "4e67d876-c7d0-4bdf-a6f9-ae06ae1fc023"
    }
   },
   "source": [
    "### Download data"
   ]
  },
  {
   "cell_type": "code",
   "execution_count": 7,
   "metadata": {
    "hidden": true,
    "nbpresent": {
     "id": "dd2fd658-b690-484c-b60a-69dc6b7bf384"
    }
   },
   "outputs": [],
   "source": [
    "from nlputils2 import *"
   ]
  },
  {
   "cell_type": "code",
   "execution_count": 8,
   "metadata": {
    "hidden": true,
    "nbpresent": {
     "id": "28c01920-f13c-493e-9a97-e5b2c24133a8"
    }
   },
   "outputs": [
    {
     "name": "stdout",
     "output_type": "stream",
     "text": [
      "downloading...\n"
     ]
    },
    {
     "data": {
      "text/html": [],
      "text/plain": [
       "<IPython.core.display.HTML object>"
      ]
     },
     "metadata": {},
     "output_type": "display_data"
    },
    {
     "name": "stdout",
     "output_type": "stream",
     "text": [
      "unzipping...\n",
      "extracting...\n",
      "CPU times: user 1min 50s, sys: 5.49 s, total: 1min 56s\n",
      "Wall time: 6min 21s\n"
     ]
    }
   ],
   "source": [
    "%%time\n",
    "get_wiki_download(path, lang)\n",
    "get_wiki_unzip(path, lang)\n",
    "get_wiki_extract(path, lang)"
   ]
  },
  {
   "cell_type": "markdown",
   "metadata": {
    "hidden": true
   },
   "source": [
    "This function splits the single wikipedia file into a separate file per article. This is often easier to work with."
   ]
  },
  {
   "cell_type": "code",
   "execution_count": 10,
   "metadata": {
    "hidden": true
   },
   "outputs": [
    {
     "name": "stdout",
     "output_type": "stream",
     "text": [
      "0\n",
      "100000\n",
      "200000\n",
      "300000\n",
      "400000\n",
      "500000\n",
      "600000\n",
      "700000\n",
      "800000\n",
      "900000\n",
      "1000000\n",
      "1100000\n",
      "1200000\n",
      "1300000\n",
      "1400000\n",
      "1500000\n",
      "1600000\n",
      "1700000\n",
      "1800000\n",
      "1900000\n",
      "2000000\n",
      "2100000\n",
      "2200000\n",
      "2300000\n",
      "2400000\n",
      "2500000\n",
      "2600000\n",
      "2700000\n",
      "2800000\n",
      "2900000\n",
      "3000000\n",
      "3100000\n",
      "3200000\n",
      "3300000\n",
      "3400000\n",
      "3500000\n",
      "3600000\n",
      "3700000\n",
      "3800000\n",
      "CPU times: user 10.3 s, sys: 3.32 s, total: 13.6 s\n",
      "Wall time: 13.6 s\n"
     ]
    },
    {
     "data": {
      "text/plain": [
       "Path('/home/paperspace/.fastai/hewiki/docs')"
      ]
     },
     "execution_count": 10,
     "metadata": {},
     "output_type": "execute_result"
    }
   ],
   "source": [
    "%%time\n",
    "split_wiki2(path,lang)"
   ]
  },
  {
   "cell_type": "code",
   "execution_count": 13,
   "metadata": {},
   "outputs": [],
   "source": [
    "# !rm -rf '/home/paperspace/.fastai/data/hewiki/docs'"
   ]
  },
  {
   "cell_type": "code",
   "execution_count": 14,
   "metadata": {
    "hidden": true,
    "nbpresent": {
     "id": "e6eae780-775e-45e9-9b99-b8a87d5fb8ff"
    }
   },
   "outputs": [
    {
     "data": {
      "text/plain": [
       "[Path('/home/paperspace/.fastai/hewiki/log'),\n",
       " Path('/home/paperspace/.fastai/hewiki/wikiextractor'),\n",
       " Path('/home/paperspace/.fastai/hewiki/docs'),\n",
       " Path('/home/paperspace/.fastai/hewiki/hewiki-latest-pages-articles.xml'),\n",
       " Path('/home/paperspace/.fastai/hewiki/hewiki-latest-pages-articles.xml.bz2'),\n",
       " Path('/home/paperspace/.fastai/hewiki/hewiki')]"
      ]
     },
     "execution_count": 14,
     "metadata": {},
     "output_type": "execute_result"
    }
   ],
   "source": [
    "path.ls()"
   ]
  },
  {
   "cell_type": "code",
   "execution_count": 15,
   "metadata": {
    "hidden": true,
    "nbpresent": {
     "id": "e1ac63e7-1cbb-4996-838d-dc58446a65ef"
    }
   },
   "outputs": [
    {
     "name": "stdout",
     "output_type": "stream",
     "text": [
      "<doc id=\"7\" url=\"https://he.wikipedia.org/wiki?curid=7\" title=\"מתמטיקה\">\r\n",
      "מתמטיקה\r\n",
      "\r\n",
      "מָתֵמָטִיקָה היא תחום דעת העוסק במושגים כגון כמות, מבנה, מרחב ושינוי. המתמטיקאים מחפשים דפוסים ותבניות משותפות במספרים, במרחב, במדע ובהפשטות דמיוניות.\r\n"
     ]
    }
   ],
   "source": [
    "!head -n4 {path}/{name}"
   ]
  },
  {
   "cell_type": "code",
   "execution_count": 16,
   "metadata": {
    "hidden": true,
    "nbpresent": {
     "id": "d23e0ef7-21e5-4cc5-945d-60ee33c02ce3"
    }
   },
   "outputs": [
    {
     "name": "stdout",
     "output_type": "stream",
     "text": [
      "CPU times: user 18.2 s, sys: 6.22 s, total: 24.4 s\n",
      "Wall time: 24.7 s\n"
     ]
    }
   ],
   "source": [
    "%%time\n",
    "folder = \"docs\"\n",
    "clean_files(path, folder)"
   ]
  },
  {
   "cell_type": "code",
   "execution_count": 17,
   "metadata": {
    "hidden": true,
    "nbpresent": {
     "id": "92b0b087-a6a8-403a-a7a1-d9b47757e5cf"
    }
   },
   "outputs": [
    {
     "data": {
      "text/plain": [
       "[Path('/home/paperspace/.fastai/hewiki/docs/טביעת_הצי_האנגלי_ליד_איי_סילי__1707_.txt'),\n",
       " Path('/home/paperspace/.fastai/hewiki/docs/חטיבת_כפיר.txt'),\n",
       " Path('/home/paperspace/.fastai/hewiki/docs/אלעזר_בן_דינאי.txt'),\n",
       " Path('/home/paperspace/.fastai/hewiki/docs/מרכז_מפנה.txt'),\n",
       " Path('/home/paperspace/.fastai/hewiki/docs/אדית_פרנק.txt')]"
      ]
     },
     "execution_count": 17,
     "metadata": {},
     "output_type": "execute_result"
    }
   ],
   "source": [
    "dest = path/'docs'\n",
    "dest.ls()[:5]"
   ]
  },
  {
   "cell_type": "code",
   "execution_count": 18,
   "metadata": {},
   "outputs": [
    {
     "data": {
      "text/plain": [
       "104107"
      ]
     },
     "execution_count": 18,
     "metadata": {},
     "output_type": "execute_result"
    }
   ],
   "source": [
    "len(dest.ls())"
   ]
  },
  {
   "cell_type": "code",
   "execution_count": 19,
   "metadata": {
    "hidden": true
   },
   "outputs": [
    {
     "name": "stdout",
     "output_type": "stream",
     "text": [
      "טביעת הצי האנגלי ליד איי סילי (באנגלית: Scilly naval disaster) הוא השם שניתן לאסון ימי גדול שאירע באוקטובר 1707 בחופי איי סילי, ארכיפלג ליד הקצה הדרום־מערבי של אנגליה. שייטת אוניות מלחמה נטרפה במזג אוויר סוער אל חופי האיים בשל טעות בניווט, וארבע מבין עשרים ואחת אוניותיה טבעו ועימן למעלה מ־1,400 מלחים וקצינים. היה זה אחד האסונות הימיים הגדולים ביותר בתולדות האיים הבריטיים. ועדת חקירה שהוקמה בעקבות האירוע קבעה כי הוא נגרם בשל חוסר יכולתם של נווטי האוניות לחשב במדויק את מיקום אוניותיהם. האסון היה אחד הגורמים שהביא את הפרלמנט הבריטי לחקיקת \"חוק קו האורך\" (Longitude Act) ולהקמת ועדה שתחפש שיטה פשוטה, יעילה ואמינה למציאת קו האורך בים.\r\n",
      "\r\n",
      "בקיץ 1707, במהלך מלחמת הירושה הספרדית, ניסה כוח משולב בריטי־אוסטרי־הולנדי בפיקוד הנסיך אויגן מסבויה, לכבוש את נמלה המבוצר של טולון, בסיס הצי הראשי של צרפת. תוך כדי הקרב, שניטש מ־29 ביולי עד 21 באוגוסט, החישה בריטניה צי אוניות מלחמה, כדי להעניק לצבא הנלחם ביבשה סיוע מן הים. בראש הכוח הימי עמד אדמירל הצי הבריטי עצמו, סר קלאודסלי שובל. האוניות הבריטיות תקפו את טולון ואף הצליחו להסב נזק לצי הצרפתי שנותר לכוד בנמל, אך צבא הברית הובס על ידי כוח משולב צרפתי־ספרדי והמבצע נכשל. במצב עניינים זה נצטווה הצי לשוב הביתה, והוא יצא לדרכו מגיברלטר אל פורטסמות ב־29 בספטמבר 1707.\r\n",
      "\r\n"
     ]
    }
   ],
   "source": [
    "!head -n4 {dest.ls()[0]}"
   ]
  },
  {
   "cell_type": "markdown",
   "metadata": {
    "heading_collapsed": true,
    "hidden": true,
    "nbpresent": {
     "id": "575fa672-7b3a-4238-923f-ec929d3a00ee"
    }
   },
   "source": [
    "### Size of downloaded data in the docs folder"
   ]
  },
  {
   "cell_type": "code",
   "execution_count": 20,
   "metadata": {
    "hidden": true,
    "nbpresent": {
     "id": "270470c2-e0eb-446a-9654-de6c45bc4f0d"
    }
   },
   "outputs": [
    {
     "name": "stdout",
     "output_type": "stream",
     "text": [
      "104107 files - 86113845 tokens\n",
      "CPU times: user 10.4 s, sys: 1.88 s, total: 12.2 s\n",
      "Wall time: 12.3 s\n"
     ]
    }
   ],
   "source": [
    "%%time\n",
    "num_files, num_tokens = get_num_tokens(dest)\n",
    "print(f'{num_files} files - {num_tokens} tokens')"
   ]
  }
 ],
 "metadata": {
  "kernelspec": {
   "display_name": "Python 3",
   "language": "python",
   "name": "python3"
  },
  "language_info": {
   "codemirror_mode": {
    "name": "ipython",
    "version": 3
   },
   "file_extension": ".py",
   "mimetype": "text/x-python",
   "name": "python",
   "nbconvert_exporter": "python",
   "pygments_lexer": "ipython3",
   "version": "3.7.1"
  }
 },
 "nbformat": 4,
 "nbformat_minor": 2
}
